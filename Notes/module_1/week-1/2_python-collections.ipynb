{
 "cells": [
  {
   "cell_type": "markdown",
   "metadata": {},
   "source": [
    "## Python - Collections\n",
    "\n",
    "Some of the most used types (data structures) you'll be working with in Python as lists and dicts and to a further degree tuples and sets. They are also referred to as collections because they mainly serve as containers for other objects. For instance: Primitive types. Similar Types. Similar to primitive types introduced earlier, it is crucial to understand the differences between them and when to use which one. They may also be referred to as Sequences or iterables. We'll see later why"
   ]
  },
  {
   "cell_type": "markdown",
   "metadata": {},
   "source": [
    "### 1. Lists\n",
    "Lists are most likely going to be your most used data structure. "
   ]
  },
  {
   "cell_type": "code",
   "execution_count": 2,
   "metadata": {},
   "outputs": [],
   "source": [
    "list_1 = [1,2,3,4,5,6]"
   ]
  },
  {
   "cell_type": "code",
   "execution_count": 3,
   "metadata": {},
   "outputs": [
    {
     "data": {
      "text/plain": [
       "3"
      ]
     },
     "execution_count": 3,
     "metadata": {},
     "output_type": "execute_result"
    }
   ],
   "source": [
    "list_1.pop(2)"
   ]
  },
  {
   "cell_type": "code",
   "execution_count": 4,
   "metadata": {},
   "outputs": [],
   "source": [
    "list_1.append(7)"
   ]
  },
  {
   "cell_type": "code",
   "execution_count": 5,
   "metadata": {},
   "outputs": [
    {
     "data": {
      "text/plain": [
       "[1, 2, 4, 5, 6, 7]"
      ]
     },
     "execution_count": 5,
     "metadata": {},
     "output_type": "execute_result"
    }
   ],
   "source": [
    "list_1"
   ]
  },
  {
   "cell_type": "markdown",
   "metadata": {},
   "source": [
    "### Dictionaries"
   ]
  },
  {
   "cell_type": "code",
   "execution_count": 6,
   "metadata": {},
   "outputs": [],
   "source": [
    "dict_1 = {\"label1\": 2,\n",
    "         \"label2\": \"Hello\",\n",
    "         \"label3\": 10.2,\n",
    "         \"labela\": [1,2,3],\n",
    "          \"new_key\": \"new_value\"}"
   ]
  },
  {
   "cell_type": "code",
   "execution_count": 7,
   "metadata": {},
   "outputs": [],
   "source": [
    "dict_1[\"labela\"].append(4)"
   ]
  },
  {
   "cell_type": "code",
   "execution_count": 8,
   "metadata": {},
   "outputs": [
    {
     "data": {
      "text/plain": [
       "{'label1': 2,\n",
       " 'label2': 'Hello',\n",
       " 'label3': 10.2,\n",
       " 'labela': [1, 2, 3, 4],\n",
       " 'new_key': 'new_value'}"
      ]
     },
     "execution_count": 8,
     "metadata": {},
     "output_type": "execute_result"
    }
   ],
   "source": [
    "dict_1"
   ]
  },
  {
   "cell_type": "markdown",
   "metadata": {},
   "source": [
    "### Dicts&Lists"
   ]
  },
  {
   "cell_type": "code",
   "execution_count": 43,
   "metadata": {},
   "outputs": [],
   "source": [
    "import random\n",
    "shoppers = random.sample(range(40), 10)"
   ]
  },
  {
   "cell_type": "code",
   "execution_count": 44,
   "metadata": {},
   "outputs": [
    {
     "data": {
      "text/plain": [
       "[15, 19, 18, 27, 10, 28, 11, 31, 23, 39]"
      ]
     },
     "execution_count": 44,
     "metadata": {},
     "output_type": "execute_result"
    }
   ],
   "source": [
    "shoppers"
   ]
  },
  {
   "cell_type": "markdown",
   "metadata": {},
   "source": [
    "**giving out gifts based on purchase value**"
   ]
  },
  {
   "cell_type": "code",
   "execution_count": 11,
   "metadata": {},
   "outputs": [
    {
     "name": "stdout",
     "output_type": "stream",
     "text": [
      "20\n",
      "35\n",
      "15\n",
      "24\n",
      "5\n",
      "26\n",
      "2\n",
      "31\n",
      "29\n",
      "4\n"
     ]
    }
   ],
   "source": [
    "for price in shoppers:\n",
    "    print(price)"
   ]
  },
  {
   "cell_type": "code",
   "execution_count": 18,
   "metadata": {},
   "outputs": [
    {
     "name": "stdout",
     "output_type": "stream",
     "text": [
      "20 Here's some chocolate\n",
      "35 Have a house!\n",
      "15 Here's some chocolate\n",
      "24 take this cake\n",
      "5 spend more money :D\n",
      "26 take this cake\n",
      "2 spend more money :D\n",
      "31 Have a house!\n",
      "29 take this cake\n",
      "4 spend more money :D\n"
     ]
    }
   ],
   "source": [
    "for price in shoppers:\n",
    "    if price <10:\n",
    "        print(price, \"spend more money :D\")\n",
    "    elif price <= 20:\n",
    "        print(price, \"Here's some chocolate\")\n",
    "    elif price <= 30:\n",
    "        print(price, \"take this cake\")\n",
    "    else:\n",
    "        print(price, \"Have a house!\")"
   ]
  },
  {
   "cell_type": "code",
   "execution_count": 57,
   "metadata": {},
   "outputs": [],
   "source": [
    "mini_shoppers = random.choices(range(4), k=10)"
   ]
  },
  {
   "cell_type": "code",
   "execution_count": 58,
   "metadata": {},
   "outputs": [
    {
     "data": {
      "text/plain": [
       "[0, 0, 1, 2, 2, 3, 1, 0, 1, 0]"
      ]
     },
     "execution_count": 58,
     "metadata": {},
     "output_type": "execute_result"
    }
   ],
   "source": [
    "mini_shoppers"
   ]
  },
  {
   "cell_type": "code",
   "execution_count": 59,
   "metadata": {},
   "outputs": [],
   "source": [
    "customer_gifts = {\n",
    "    0: \"spend more money\",\n",
    "    1: \"Here's some chocolate\", \n",
    "    2: \"Take a cake!\",\n",
    "    3: \"Have a house!!!\"}"
   ]
  },
  {
   "cell_type": "code",
   "execution_count": 60,
   "metadata": {},
   "outputs": [
    {
     "data": {
      "text/plain": [
       "[15, 19, 18, 27, 10, 28, 11, 31, 23, 39]"
      ]
     },
     "execution_count": 60,
     "metadata": {},
     "output_type": "execute_result"
    }
   ],
   "source": [
    "shoppers"
   ]
  },
  {
   "cell_type": "code",
   "execution_count": 61,
   "metadata": {},
   "outputs": [
    {
     "name": "stdout",
     "output_type": "stream",
     "text": [
      "spend more money\n",
      "spend more money\n",
      "Here's some chocolate\n",
      "Take a cake!\n",
      "Take a cake!\n",
      "Have a house!!!\n",
      "Here's some chocolate\n",
      "spend more money\n",
      "Here's some chocolate\n",
      "spend more money\n"
     ]
    }
   ],
   "source": [
    "for price in mini_shoppers:\n",
    "    print(customer_gifts[price])"
   ]
  },
  {
   "cell_type": "code",
   "execution_count": 67,
   "metadata": {},
   "outputs": [
    {
     "name": "stdout",
     "output_type": "stream",
     "text": [
      "Here's some chocolate\n",
      "Here's some chocolate\n",
      "Here's some chocolate\n",
      "Take a cake!\n",
      "Here's some chocolate\n",
      "Take a cake!\n",
      "Here's some chocolate\n",
      "Have a house!!!\n",
      "Take a cake!\n",
      "Have a house!!!\n"
     ]
    }
   ],
   "source": [
    "for price in shoppers:\n",
    "    if price >= 40:\n",
    "        print(\"jeeeeet\")\n",
    "    print(customer_gifts[int(price / 10)])\n",
    "\n",
    "#the if statement for extreme cases"
   ]
  },
  {
   "cell_type": "markdown",
   "metadata": {},
   "source": [
    "**_we needed two data structures\n",
    "to make nice code :3_**\n",
    "\n",
    "(customers and customer gifts)\n",
    "how can we make these components play with each other. \n",
    "for price in shoppers - we are iterating over the elements in our customer list. \n",
    "\n",
    "we were categorizing the customers by their purchases - the if statements. so that is why 0,1,2,3 and it is possible for us to use dictionaries! \n",
    "\n",
    "We used the example of mini shoppers to kinda simplify what we wanted to accomplish. \n"
   ]
  },
  {
   "cell_type": "code",
   "execution_count": null,
   "metadata": {},
   "outputs": [],
   "source": []
  },
  {
   "cell_type": "code",
   "execution_count": null,
   "metadata": {},
   "outputs": [],
   "source": []
  },
  {
   "cell_type": "code",
   "execution_count": null,
   "metadata": {},
   "outputs": [],
   "source": []
  },
  {
   "cell_type": "markdown",
   "metadata": {},
   "source": [
    "### String interpolation"
   ]
  },
  {
   "cell_type": "code",
   "execution_count": 32,
   "metadata": {},
   "outputs": [],
   "source": [
    "\n",
    "names = [\"Nicholas\", \"Milena\", \"Sabrina\"]"
   ]
  },
  {
   "cell_type": "code",
   "execution_count": 34,
   "metadata": {},
   "outputs": [
    {
     "name": "stdout",
     "output_type": "stream",
     "text": [
      "Hello Nicholas\n",
      "Hello Milena\n",
      "Hello Sabrina\n"
     ]
    }
   ],
   "source": [
    "for name in names:\n",
    "    print(f\"Hello {name}\")"
   ]
  },
  {
   "cell_type": "code",
   "execution_count": null,
   "metadata": {},
   "outputs": [],
   "source": []
  },
  {
   "cell_type": "code",
   "execution_count": null,
   "metadata": {},
   "outputs": [],
   "source": []
  }
 ],
 "metadata": {
  "kernelspec": {
   "display_name": "Python 3",
   "language": "python",
   "name": "python3"
  },
  "language_info": {
   "codemirror_mode": {
    "name": "ipython",
    "version": 3
   },
   "file_extension": ".py",
   "mimetype": "text/x-python",
   "name": "python",
   "nbconvert_exporter": "python",
   "pygments_lexer": "ipython3",
   "version": "3.8.3"
  }
 },
 "nbformat": 4,
 "nbformat_minor": 4
}
