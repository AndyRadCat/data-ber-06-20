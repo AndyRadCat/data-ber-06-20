{
 "cells": [
  {
   "cell_type": "markdown",
   "metadata": {},
   "source": [
    "\"\"\"\"\n",
    "data_movies['budget'] = data_movies['budget'].str.replace('$','')\n",
    "data_movies['budget'] = data_movies['budget'].str.replace('ITL','')\n",
    "data_movies['budget'] = data_movies['budget'].str.replace('ROL','')\n",
    "data_movies['budget'] = data_movies['budget'].str.replace('NOK','')\n",
    "data_movies['budget'] = data_movies['budget'].str.replace('GBP','')\n",
    "data_movies['budget'] = data_movies['budget'].str.replace('DEM','')\n",
    "data_movies['budget'] = data_movies['budget'].str.replace('PTE','')\n",
    "data_movies['budget'] = data_movies['budget'].str.replace('CAD','')\n",
    "data_movies['budget'] = data_movies['budget'].str.replace('INR','')\n",
    "data_movies['budget'] = data_movies['budget'].str.replace('CHF','')\n",
    "data_movies['budget'] = data_movies['budget'].str.replace('FIM','')\n",
    "data_movies['budget'] = data_movies['budget'].str.replace('JPY','')\n",
    "data_movies['budget'] = data_movies['budget'].str.replace('SEK','')\n",
    "data_movies['budget'] = data_movies['budget'].str.replace('FRF','')\n",
    "data_movies['budget'] = data_movies['budget'].str.replace('DKK','')\n",
    "data_movies['budget'] = data_movies['budget'].str.replace('NLG','')\n",
    "data_movies['budget'] = data_movies['budget'].str.replace('PLN','')\n",
    "data_movies['budget'] = data_movies['budget'].str.replace('RUR','')\n",
    "data_movies['budget'] = data_movies['budget'].str.replace('AUD','')\n",
    "data_movies['budget'] = data_movies['budget'].str.replace('KRW','')\n",
    "data_movies['budget'] = data_movies['budget'].str.replace('BEF','')\n",
    "data_movies['budget'] = data_movies['budget'].str.replace('XAU','')\n",
    "data_movies['budget'] = data_movies['budget'].str.replace('HKD','')\n",
    "data_movies['budget'] = data_movies['budget'].str.replace('NZD','')\n",
    "data_movies['budget'] = data_movies['budget'].str.replace('CNY','')\n",
    "data_movies['budget'] = data_movies['budget'].str.replace('ESP','')\n",
    "data_movies['budget'] = data_movies['budget'].str.replace('EUR','')\n",
    "data_movies['budget'] = data_movies['budget'].str.replace('PYG','')\n",
    "data_movies['budget'] = data_movies['budget'].str.replace('ISK','')\n",
    "data_movies['budget'] = data_movies['budget'].str.replace('IEP','')\n",
    "data_movies['budget'] = data_movies['budget'].str.replace('TRL','')\n",
    "data_movies['budget'] = data_movies['budget'].str.replace('HRK','')\n",
    "data_movies['budget'] = data_movies['budget'].str.replace('SIT','')\n",
    "data_movies['budget'] = data_movies['budget'].str.replace('PHP','')\n",
    "data_movies['budget'] = data_movies['budget'].str.replace('DOP','')\n",
    "data_movies['budget'] = data_movies['budget'].str.replace('JMD','')\n",
    "data_movies['budget'] = data_movies['budget'].str.replace('CZK','')\n",
    "data_movies['budget'] = data_movies['budget'].str.replace('SGD','')\n",
    "data_movies['budget'] = data_movies['budget'].str.replace('BRL','')\n",
    "\"\"\"\"\"\""
   ]
  },
  {
   "cell_type": "code",
   "execution_count": null,
   "metadata": {},
   "outputs": [],
   "source": []
  }
 ],
 "metadata": {
  "kernelspec": {
   "display_name": "Python 3",
   "language": "python",
   "name": "python3"
  },
  "language_info": {
   "codemirror_mode": {
    "name": "ipython",
    "version": 3
   },
   "file_extension": ".py",
   "mimetype": "text/x-python",
   "name": "python",
   "nbconvert_exporter": "python",
   "pygments_lexer": "ipython3",
   "version": "3.7.6"
  }
 },
 "nbformat": 4,
 "nbformat_minor": 4
}
