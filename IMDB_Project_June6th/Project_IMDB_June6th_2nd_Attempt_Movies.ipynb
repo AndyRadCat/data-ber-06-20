{
 "cells": [
  {
   "cell_type": "code",
   "execution_count": 1,
   "metadata": {},
   "outputs": [],
   "source": [
    "import numpy as np\n",
    "import pandas as pd\n",
    "import matplotlib \n",
    "import matplotlib.pyplot as plt\n",
    "import seaborn as sns \n",
    "from pandas_profiling import ProfileReport\n",
    "\n",
    "%matplotlib inline"
   ]
  },
  {
   "cell_type": "code",
   "execution_count": 2,
   "metadata": {},
   "outputs": [],
   "source": [
    "data_movies = pd.read_csv('./Data_IMDB_justMovies/data_movies_clean.csv')\n",
    "data_ratings = pd.read_csv('./Data_IMDB_justMovies/data_ratings_clean.csv')"
   ]
  },
  {
   "cell_type": "code",
   "execution_count": 3,
   "metadata": {},
   "outputs": [
    {
     "data": {
      "text/html": [
       "<div>\n",
       "<style scoped>\n",
       "    .dataframe tbody tr th:only-of-type {\n",
       "        vertical-align: middle;\n",
       "    }\n",
       "\n",
       "    .dataframe tbody tr th {\n",
       "        vertical-align: top;\n",
       "    }\n",
       "\n",
       "    .dataframe thead th {\n",
       "        text-align: right;\n",
       "    }\n",
       "</style>\n",
       "<table border=\"1\" class=\"dataframe\">\n",
       "  <thead>\n",
       "    <tr style=\"text-align: right;\">\n",
       "      <th></th>\n",
       "      <th>imdb_title_id</th>\n",
       "      <th>title</th>\n",
       "      <th>year</th>\n",
       "      <th>date_published</th>\n",
       "      <th>genre</th>\n",
       "      <th>duration</th>\n",
       "      <th>country</th>\n",
       "      <th>language</th>\n",
       "      <th>director</th>\n",
       "      <th>writer</th>\n",
       "      <th>production_company</th>\n",
       "      <th>avg_vote</th>\n",
       "      <th>votes</th>\n",
       "      <th>reviews_from_users</th>\n",
       "      <th>reviews_from_critics</th>\n",
       "    </tr>\n",
       "  </thead>\n",
       "  <tbody>\n",
       "    <tr>\n",
       "      <th>0</th>\n",
       "      <td>tt0000574</td>\n",
       "      <td>The Story of the Kelly Gang</td>\n",
       "      <td>1906</td>\n",
       "      <td>1906-12-26</td>\n",
       "      <td>Biography, Crime, Drama</td>\n",
       "      <td>70</td>\n",
       "      <td>Australia</td>\n",
       "      <td>NaN</td>\n",
       "      <td>Charles Tait</td>\n",
       "      <td>Charles Tait</td>\n",
       "      <td>J. and N. Tait</td>\n",
       "      <td>6.1</td>\n",
       "      <td>537</td>\n",
       "      <td>7</td>\n",
       "      <td>7</td>\n",
       "    </tr>\n",
       "    <tr>\n",
       "      <th>1</th>\n",
       "      <td>tt0001892</td>\n",
       "      <td>Den sorte drøm</td>\n",
       "      <td>1911</td>\n",
       "      <td>1911-08-19</td>\n",
       "      <td>Drama</td>\n",
       "      <td>53</td>\n",
       "      <td>Germany, Denmark</td>\n",
       "      <td>NaN</td>\n",
       "      <td>Urban Gad</td>\n",
       "      <td>Urban Gad, Gebhard Schätzler-Perasini</td>\n",
       "      <td>Fotorama</td>\n",
       "      <td>5.9</td>\n",
       "      <td>171</td>\n",
       "      <td>4</td>\n",
       "      <td>2</td>\n",
       "    </tr>\n",
       "    <tr>\n",
       "      <th>2</th>\n",
       "      <td>tt0002101</td>\n",
       "      <td>Cleopatra</td>\n",
       "      <td>1912</td>\n",
       "      <td>1912-11-13</td>\n",
       "      <td>Drama, History</td>\n",
       "      <td>100</td>\n",
       "      <td>USA</td>\n",
       "      <td>English</td>\n",
       "      <td>Charles L. Gaskill</td>\n",
       "      <td>Victorien Sardou</td>\n",
       "      <td>Helen Gardner Picture Players</td>\n",
       "      <td>5.2</td>\n",
       "      <td>420</td>\n",
       "      <td>24</td>\n",
       "      <td>3</td>\n",
       "    </tr>\n",
       "  </tbody>\n",
       "</table>\n",
       "</div>"
      ],
      "text/plain": [
       "  imdb_title_id                        title  year date_published  \\\n",
       "0     tt0000574  The Story of the Kelly Gang  1906     1906-12-26   \n",
       "1     tt0001892               Den sorte drøm  1911     1911-08-19   \n",
       "2     tt0002101                    Cleopatra  1912     1912-11-13   \n",
       "\n",
       "                     genre  duration           country language  \\\n",
       "0  Biography, Crime, Drama        70         Australia      NaN   \n",
       "1                    Drama        53  Germany, Denmark      NaN   \n",
       "2           Drama, History       100               USA  English   \n",
       "\n",
       "             director                                 writer  \\\n",
       "0        Charles Tait                           Charles Tait   \n",
       "1           Urban Gad  Urban Gad, Gebhard Schätzler-Perasini   \n",
       "2  Charles L. Gaskill                       Victorien Sardou   \n",
       "\n",
       "              production_company  avg_vote  votes  reviews_from_users  \\\n",
       "0                 J. and N. Tait       6.1    537                   7   \n",
       "1                       Fotorama       5.9    171                   4   \n",
       "2  Helen Gardner Picture Players       5.2    420                  24   \n",
       "\n",
       "   reviews_from_critics  \n",
       "0                     7  \n",
       "1                     2  \n",
       "2                     3  "
      ]
     },
     "execution_count": 3,
     "metadata": {},
     "output_type": "execute_result"
    }
   ],
   "source": [
    "data_movies.head(3)"
   ]
  },
  {
   "cell_type": "code",
   "execution_count": 4,
   "metadata": {},
   "outputs": [
    {
     "data": {
      "text/html": [
       "<div>\n",
       "<style scoped>\n",
       "    .dataframe tbody tr th:only-of-type {\n",
       "        vertical-align: middle;\n",
       "    }\n",
       "\n",
       "    .dataframe tbody tr th {\n",
       "        vertical-align: top;\n",
       "    }\n",
       "\n",
       "    .dataframe thead th {\n",
       "        text-align: right;\n",
       "    }\n",
       "</style>\n",
       "<table border=\"1\" class=\"dataframe\">\n",
       "  <thead>\n",
       "    <tr style=\"text-align: right;\">\n",
       "      <th></th>\n",
       "      <th>year</th>\n",
       "      <th>imdb_title_id</th>\n",
       "      <th>country</th>\n",
       "    </tr>\n",
       "  </thead>\n",
       "  <tbody>\n",
       "    <tr>\n",
       "      <th>0</th>\n",
       "      <td>1906</td>\n",
       "      <td>1</td>\n",
       "      <td>Australia</td>\n",
       "    </tr>\n",
       "    <tr>\n",
       "      <th>1</th>\n",
       "      <td>1911</td>\n",
       "      <td>4</td>\n",
       "      <td>Germany, Denmark</td>\n",
       "    </tr>\n",
       "    <tr>\n",
       "      <th>2</th>\n",
       "      <td>1912</td>\n",
       "      <td>5</td>\n",
       "      <td>USA</td>\n",
       "    </tr>\n",
       "    <tr>\n",
       "      <th>3</th>\n",
       "      <td>1913</td>\n",
       "      <td>13</td>\n",
       "      <td>Italy</td>\n",
       "    </tr>\n",
       "    <tr>\n",
       "      <th>4</th>\n",
       "      <td>1914</td>\n",
       "      <td>21</td>\n",
       "      <td>USA</td>\n",
       "    </tr>\n",
       "    <tr>\n",
       "      <th>...</th>\n",
       "      <td>...</td>\n",
       "      <td>...</td>\n",
       "      <td>...</td>\n",
       "    </tr>\n",
       "    <tr>\n",
       "      <th>105</th>\n",
       "      <td>2015</td>\n",
       "      <td>2903</td>\n",
       "      <td>USA</td>\n",
       "    </tr>\n",
       "    <tr>\n",
       "      <th>106</th>\n",
       "      <td>2016</td>\n",
       "      <td>3033</td>\n",
       "      <td>Sweden</td>\n",
       "    </tr>\n",
       "    <tr>\n",
       "      <th>107</th>\n",
       "      <td>2017</td>\n",
       "      <td>3106</td>\n",
       "      <td>USA</td>\n",
       "    </tr>\n",
       "    <tr>\n",
       "      <th>108</th>\n",
       "      <td>2018</td>\n",
       "      <td>2880</td>\n",
       "      <td>USA</td>\n",
       "    </tr>\n",
       "    <tr>\n",
       "      <th>109</th>\n",
       "      <td>2019</td>\n",
       "      <td>1567</td>\n",
       "      <td>Hungary</td>\n",
       "    </tr>\n",
       "  </tbody>\n",
       "</table>\n",
       "<p>110 rows × 3 columns</p>\n",
       "</div>"
      ],
      "text/plain": [
       "     year  imdb_title_id           country\n",
       "0    1906              1         Australia\n",
       "1    1911              4  Germany, Denmark\n",
       "2    1912              5               USA\n",
       "3    1913             13             Italy\n",
       "4    1914             21               USA\n",
       "..    ...            ...               ...\n",
       "105  2015           2903               USA\n",
       "106  2016           3033            Sweden\n",
       "107  2017           3106               USA\n",
       "108  2018           2880               USA\n",
       "109  2019           1567           Hungary\n",
       "\n",
       "[110 rows x 3 columns]"
      ]
     },
     "execution_count": 4,
     "metadata": {},
     "output_type": "execute_result"
    }
   ],
   "source": [
    "data_movies_year = (data_movies.groupby(['year']).agg({'imdb_title_id':'count'}).reset_index())\n",
    "data_movies_year['country']=data_movies['country']\n",
    "data_movies_year"
   ]
  },
  {
   "cell_type": "code",
   "execution_count": 5,
   "metadata": {},
   "outputs": [
    {
     "data": {
      "text/plain": [
       "<matplotlib.axes._subplots.AxesSubplot at 0x1df6ace9490>"
      ]
     },
     "execution_count": 5,
     "metadata": {},
     "output_type": "execute_result"
    },
    {
     "data": {
      "image/png": "[encoded data removed]",
      "text/plain": [
       "<Figure size 1440x864 with 1 Axes>"
      ]
     },
     "metadata": {
      "needs_background": "light"
     },
     "output_type": "display_data"
    }
   ],
   "source": [
    "fig, ax = plt.subplots(figsize=(20,12))\n",
    "\n",
    "sns.lineplot(data=data_movies_year,\n",
    "            x='year',\n",
    "            y='imdb_title_id',\n",
    "            hue='country')"
   ]
  },
  {
   "cell_type": "code",
   "execution_count": 6,
   "metadata": {},
   "outputs": [
    {
     "data": {
      "text/plain": [
       "13"
      ]
     },
     "execution_count": 6,
     "metadata": {},
     "output_type": "execute_result"
    }
   ],
   "source": [
    "data_movies_year['country'].nunique()"
   ]
  },
  {
   "cell_type": "code",
   "execution_count": 7,
   "metadata": {},
   "outputs": [],
   "source": [
    "data_movies_ratings = pd.merge(data_movies, data_ratings, on='imdb_title_id', how='inner' )"
   ]
  },
  {
   "cell_type": "code",
   "execution_count": 8,
   "metadata": {},
   "outputs": [
    {
     "data": {
      "text/plain": [
       "81273"
      ]
     },
     "execution_count": 8,
     "metadata": {},
     "output_type": "execute_result"
    }
   ],
   "source": [
    "data_movies_ratings['imdb_title_id'].nunique()"
   ]
  },
  {
   "cell_type": "code",
   "execution_count": 9,
   "metadata": {},
   "outputs": [
    {
     "data": {
      "text/plain": [
       "Index(['imdb_title_id', 'title', 'year', 'date_published', 'genre', 'duration',\n",
       "       'country', 'language', 'director', 'writer', 'production_company',\n",
       "       'avg_vote', 'votes', 'reviews_from_users', 'reviews_from_critics',\n",
       "       'weighted_average_vote', 'total_votes', 'mean_vote', 'median_vote',\n",
       "       'allgenders_18age_avg_vote', 'allgenders_18age_votes',\n",
       "       'allgenders_30age_avg_vote', 'allgenders_30age_votes',\n",
       "       'allgenders_45age_avg_vote', 'allgenders_45age_votes',\n",
       "       'males_allages_avg_vote', 'males_allages_votes', 'males_18age_avg_vote',\n",
       "       'males_18age_votes', 'males_30age_avg_vote', 'males_30age_votes',\n",
       "       'males_45age_avg_vote', 'males_45age_votes', 'females_allages_avg_vote',\n",
       "       'females_allages_votes', 'females_18age_avg_vote',\n",
       "       'females_18age_votes', 'females_30age_avg_vote', 'females_30age_votes',\n",
       "       'females_45age_avg_vote', 'females_45age_votes',\n",
       "       'top1000_voters_rating', 'top1000_voters_votes', 'us_voters_rating',\n",
       "       'us_voters_votes', 'non_us_voters_rating', 'non_us_voters_votes'],\n",
       "      dtype='object')"
      ]
     },
     "execution_count": 9,
     "metadata": {},
     "output_type": "execute_result"
    }
   ],
   "source": [
    "data_movies_ratings.columns"
   ]
  },
  {
   "cell_type": "code",
   "execution_count": 10,
   "metadata": {},
   "outputs": [
    {
     "data": {
      "text/plain": [
       "0         48\n",
       "1         16\n",
       "2         39\n",
       "3        205\n",
       "4         29\n",
       "        ... \n",
       "81268     17\n",
       "81269      0\n",
       "81270      0\n",
       "81271      0\n",
       "81272      1\n",
       "Name: females_allages_votes, Length: 81273, dtype: int64"
      ]
     },
     "execution_count": 10,
     "metadata": {},
     "output_type": "execute_result"
    }
   ],
   "source": [
    "data_movies_ratings['females_allages_votes']"
   ]
  },
  {
   "cell_type": "code",
   "execution_count": 11,
   "metadata": {},
   "outputs": [
    {
     "name": "stdout",
     "output_type": "stream",
     "text": [
      "112141007\n",
      "493045820\n"
     ]
    }
   ],
   "source": [
    "print(data_movies_ratings['females_allages_votes'].sum())\n",
    "print(data_movies_ratings['males_allages_votes'].sum())"
   ]
  },
  {
   "cell_type": "code",
   "execution_count": 12,
   "metadata": {},
   "outputs": [
    {
     "data": {
      "text/plain": [
       "765735595"
      ]
     },
     "execution_count": 12,
     "metadata": {},
     "output_type": "execute_result"
    }
   ],
   "source": [
    "data_movies_ratings['votes'].sum()"
   ]
  },
  {
   "cell_type": "code",
   "execution_count": 13,
   "metadata": {},
   "outputs": [
    {
     "data": {
      "text/plain": [
       "605186827"
      ]
     },
     "execution_count": 13,
     "metadata": {},
     "output_type": "execute_result"
    }
   ],
   "source": [
    "112141007 + 493045820"
   ]
  },
  {
   "cell_type": "code",
   "execution_count": 14,
   "metadata": {},
   "outputs": [
    {
     "data": {
      "text/plain": [
       "6235557"
      ]
     },
     "execution_count": 14,
     "metadata": {},
     "output_type": "execute_result"
    }
   ],
   "source": [
    "data_movies_ratings['top1000_voters_votes'].sum()"
   ]
  },
  {
   "cell_type": "code",
   "execution_count": 15,
   "metadata": {},
   "outputs": [
    {
     "data": {
      "text/plain": [
       "<matplotlib.axes._subplots.AxesSubplot at 0x1df6d5f2a90>"
      ]
     },
     "execution_count": 15,
     "metadata": {},
     "output_type": "execute_result"
    },
    {
     "data": {
      "image/png": "[encoded data removed]",
      "text/plain": [
       "<Figure size 1440x864 with 1 Axes>"
      ]
     },
     "metadata": {
      "needs_background": "light"
     },
     "output_type": "display_data"
    }
   ],
   "source": [
    "fig, ax = plt.subplots(figsize=(20,12))\n",
    "\n",
    "sns.scatterplot(data=data_movies_ratings,\n",
    "            x='females_allages_votes',\n",
    "            y='males_allages_votes')"
   ]
  },
  {
   "cell_type": "code",
   "execution_count": 16,
   "metadata": {},
   "outputs": [
    {
     "data": {
      "text/plain": [
       "<matplotlib.axes._subplots.AxesSubplot at 0x1df6d6313a0>"
      ]
     },
     "execution_count": 16,
     "metadata": {},
     "output_type": "execute_result"
    },
    {
     "data": {
      "image/png": "[encoded data removed]",
      "text/plain": [
       "<Figure size 432x288 with 1 Axes>"
      ]
     },
     "metadata": {
      "needs_background": "light"
     },
     "output_type": "display_data"
    }
   ],
   "source": [
    "fig, ax = plt.subplots()\n",
    "\n",
    "ax.set_title('people')\n",
    "ax.set_xlabel('females_allages_votes')\n",
    "ax.set_ylabel('males_allages_votes')\n",
    "\n",
    "\n",
    "sns.scatterplot(data=data_movies_ratings,\n",
    "            x='females_allages_votes',\n",
    "            y='males_allages_votes',\n",
    "            color='pink')"
   ]
  },
  {
   "cell_type": "code",
   "execution_count": 17,
   "metadata": {},
   "outputs": [
    {
     "data": {
      "text/html": [
       "<div>\n",
       "<style scoped>\n",
       "    .dataframe tbody tr th:only-of-type {\n",
       "        vertical-align: middle;\n",
       "    }\n",
       "\n",
       "    .dataframe tbody tr th {\n",
       "        vertical-align: top;\n",
       "    }\n",
       "\n",
       "    .dataframe thead th {\n",
       "        text-align: right;\n",
       "    }\n",
       "</style>\n",
       "<table border=\"1\" class=\"dataframe\">\n",
       "  <thead>\n",
       "    <tr style=\"text-align: right;\">\n",
       "      <th></th>\n",
       "      <th>imdb_title_id</th>\n",
       "      <th>title</th>\n",
       "      <th>year</th>\n",
       "      <th>date_published</th>\n",
       "      <th>genre</th>\n",
       "      <th>duration</th>\n",
       "      <th>country</th>\n",
       "      <th>language</th>\n",
       "      <th>director</th>\n",
       "      <th>writer</th>\n",
       "      <th>...</th>\n",
       "      <th>females_30age_avg_vote</th>\n",
       "      <th>females_30age_votes</th>\n",
       "      <th>females_45age_avg_vote</th>\n",
       "      <th>females_45age_votes</th>\n",
       "      <th>top1000_voters_rating</th>\n",
       "      <th>top1000_voters_votes</th>\n",
       "      <th>us_voters_rating</th>\n",
       "      <th>us_voters_votes</th>\n",
       "      <th>non_us_voters_rating</th>\n",
       "      <th>non_us_voters_votes</th>\n",
       "    </tr>\n",
       "  </thead>\n",
       "  <tbody>\n",
       "    <tr>\n",
       "      <th>0</th>\n",
       "      <td>tt0000574</td>\n",
       "      <td>The Story of the Kelly Gang</td>\n",
       "      <td>1906</td>\n",
       "      <td>1906-12-26</td>\n",
       "      <td>Biography, Crime, Drama</td>\n",
       "      <td>70</td>\n",
       "      <td>Australia</td>\n",
       "      <td>NaN</td>\n",
       "      <td>Charles Tait</td>\n",
       "      <td>Charles Tait</td>\n",
       "      <td>...</td>\n",
       "      <td>6.0</td>\n",
       "      <td>19</td>\n",
       "      <td>6.6</td>\n",
       "      <td>14</td>\n",
       "      <td>6.3</td>\n",
       "      <td>64</td>\n",
       "      <td>6.0</td>\n",
       "      <td>89</td>\n",
       "      <td>6.2</td>\n",
       "      <td>309</td>\n",
       "    </tr>\n",
       "    <tr>\n",
       "      <th>1</th>\n",
       "      <td>tt0001892</td>\n",
       "      <td>Den sorte drøm</td>\n",
       "      <td>1911</td>\n",
       "      <td>1911-08-19</td>\n",
       "      <td>Drama</td>\n",
       "      <td>53</td>\n",
       "      <td>Germany, Denmark</td>\n",
       "      <td>NaN</td>\n",
       "      <td>Urban Gad</td>\n",
       "      <td>Urban Gad, Gebhard Schätzler-Perasini</td>\n",
       "      <td>...</td>\n",
       "      <td>5.8</td>\n",
       "      <td>4</td>\n",
       "      <td>6.5</td>\n",
       "      <td>8</td>\n",
       "      <td>5.9</td>\n",
       "      <td>29</td>\n",
       "      <td>6.2</td>\n",
       "      <td>27</td>\n",
       "      <td>6.0</td>\n",
       "      <td>114</td>\n",
       "    </tr>\n",
       "    <tr>\n",
       "      <th>2</th>\n",
       "      <td>tt0002101</td>\n",
       "      <td>Cleopatra</td>\n",
       "      <td>1912</td>\n",
       "      <td>1912-11-13</td>\n",
       "      <td>Drama, History</td>\n",
       "      <td>100</td>\n",
       "      <td>USA</td>\n",
       "      <td>English</td>\n",
       "      <td>Charles L. Gaskill</td>\n",
       "      <td>Victorien Sardou</td>\n",
       "      <td>...</td>\n",
       "      <td>5.5</td>\n",
       "      <td>14</td>\n",
       "      <td>6.2</td>\n",
       "      <td>20</td>\n",
       "      <td>4.9</td>\n",
       "      <td>57</td>\n",
       "      <td>5.5</td>\n",
       "      <td>197</td>\n",
       "      <td>4.7</td>\n",
       "      <td>103</td>\n",
       "    </tr>\n",
       "    <tr>\n",
       "      <th>3</th>\n",
       "      <td>tt0002130</td>\n",
       "      <td>L'Inferno</td>\n",
       "      <td>1911</td>\n",
       "      <td>1911-03-06</td>\n",
       "      <td>Adventure, Drama, Fantasy</td>\n",
       "      <td>68</td>\n",
       "      <td>Italy</td>\n",
       "      <td>Italian</td>\n",
       "      <td>Francesco Bertolini, Adolfo Padovan</td>\n",
       "      <td>Dante Alighieri</td>\n",
       "      <td>...</td>\n",
       "      <td>7.3</td>\n",
       "      <td>74</td>\n",
       "      <td>7.4</td>\n",
       "      <td>75</td>\n",
       "      <td>7.0</td>\n",
       "      <td>126</td>\n",
       "      <td>7.1</td>\n",
       "      <td>452</td>\n",
       "      <td>7.0</td>\n",
       "      <td>1076</td>\n",
       "    </tr>\n",
       "    <tr>\n",
       "      <th>4</th>\n",
       "      <td>tt0002199</td>\n",
       "      <td>From the Manger to the Cross; or, Jesus of Naz...</td>\n",
       "      <td>1912</td>\n",
       "      <td>1913-01-01</td>\n",
       "      <td>Biography, Drama</td>\n",
       "      <td>60</td>\n",
       "      <td>USA</td>\n",
       "      <td>English</td>\n",
       "      <td>Sidney Olcott</td>\n",
       "      <td>Gene Gauntier</td>\n",
       "      <td>...</td>\n",
       "      <td>4.8</td>\n",
       "      <td>10</td>\n",
       "      <td>6.5</td>\n",
       "      <td>15</td>\n",
       "      <td>5.7</td>\n",
       "      <td>56</td>\n",
       "      <td>5.9</td>\n",
       "      <td>161</td>\n",
       "      <td>5.7</td>\n",
       "      <td>164</td>\n",
       "    </tr>\n",
       "  </tbody>\n",
       "</table>\n",
       "<p>5 rows × 47 columns</p>\n",
       "</div>"
      ],
      "text/plain": [
       "  imdb_title_id                                              title  year  \\\n",
       "0     tt0000574                        The Story of the Kelly Gang  1906   \n",
       "1     tt0001892                                     Den sorte drøm  1911   \n",
       "2     tt0002101                                          Cleopatra  1912   \n",
       "3     tt0002130                                          L'Inferno  1911   \n",
       "4     tt0002199  From the Manger to the Cross; or, Jesus of Naz...  1912   \n",
       "\n",
       "  date_published                      genre  duration           country  \\\n",
       "0     1906-12-26    Biography, Crime, Drama        70         Australia   \n",
       "1     1911-08-19                      Drama        53  Germany, Denmark   \n",
       "2     1912-11-13             Drama, History       100               USA   \n",
       "3     1911-03-06  Adventure, Drama, Fantasy        68             Italy   \n",
       "4     1913-01-01           Biography, Drama        60               USA   \n",
       "\n",
       "  language                             director  \\\n",
       "0      NaN                         Charles Tait   \n",
       "1      NaN                            Urban Gad   \n",
       "2  English                   Charles L. Gaskill   \n",
       "3  Italian  Francesco Bertolini, Adolfo Padovan   \n",
       "4  English                        Sidney Olcott   \n",
       "\n",
       "                                  writer  ... females_30age_avg_vote  \\\n",
       "0                           Charles Tait  ...                    6.0   \n",
       "1  Urban Gad, Gebhard Schätzler-Perasini  ...                    5.8   \n",
       "2                       Victorien Sardou  ...                    5.5   \n",
       "3                        Dante Alighieri  ...                    7.3   \n",
       "4                          Gene Gauntier  ...                    4.8   \n",
       "\n",
       "   females_30age_votes  females_45age_avg_vote  females_45age_votes  \\\n",
       "0                   19                     6.6                   14   \n",
       "1                    4                     6.5                    8   \n",
       "2                   14                     6.2                   20   \n",
       "3                   74                     7.4                   75   \n",
       "4                   10                     6.5                   15   \n",
       "\n",
       "   top1000_voters_rating  top1000_voters_votes  us_voters_rating  \\\n",
       "0                    6.3                    64               6.0   \n",
       "1                    5.9                    29               6.2   \n",
       "2                    4.9                    57               5.5   \n",
       "3                    7.0                   126               7.1   \n",
       "4                    5.7                    56               5.9   \n",
       "\n",
       "   us_voters_votes  non_us_voters_rating  non_us_voters_votes  \n",
       "0               89                   6.2                  309  \n",
       "1               27                   6.0                  114  \n",
       "2              197                   4.7                  103  \n",
       "3              452                   7.0                 1076  \n",
       "4              161                   5.7                  164  \n",
       "\n",
       "[5 rows x 47 columns]"
      ]
     },
     "execution_count": 17,
     "metadata": {},
     "output_type": "execute_result"
    }
   ],
   "source": [
    "data_movies_ratings.head()"
   ]
  },
  {
   "cell_type": "code",
   "execution_count": 18,
   "metadata": {},
   "outputs": [
    {
     "data": {
      "text/html": [
       "<div>\n",
       "<style scoped>\n",
       "    .dataframe tbody tr th:only-of-type {\n",
       "        vertical-align: middle;\n",
       "    }\n",
       "\n",
       "    .dataframe tbody tr th {\n",
       "        vertical-align: top;\n",
       "    }\n",
       "\n",
       "    .dataframe thead th {\n",
       "        text-align: right;\n",
       "    }\n",
       "</style>\n",
       "<table border=\"1\" class=\"dataframe\">\n",
       "  <thead>\n",
       "    <tr style=\"text-align: right;\">\n",
       "      <th></th>\n",
       "      <th>imdb_title_id</th>\n",
       "      <th>title</th>\n",
       "      <th>year</th>\n",
       "      <th>date_published</th>\n",
       "      <th>genre</th>\n",
       "      <th>duration</th>\n",
       "      <th>country</th>\n",
       "      <th>language</th>\n",
       "      <th>director</th>\n",
       "      <th>writer</th>\n",
       "      <th>...</th>\n",
       "      <th>females_30age_avg_vote</th>\n",
       "      <th>females_30age_votes</th>\n",
       "      <th>females_45age_avg_vote</th>\n",
       "      <th>females_45age_votes</th>\n",
       "      <th>top1000_voters_rating</th>\n",
       "      <th>top1000_voters_votes</th>\n",
       "      <th>us_voters_rating</th>\n",
       "      <th>us_voters_votes</th>\n",
       "      <th>non_us_voters_rating</th>\n",
       "      <th>non_us_voters_votes</th>\n",
       "    </tr>\n",
       "  </thead>\n",
       "  <tbody>\n",
       "    <tr>\n",
       "      <th>0</th>\n",
       "      <td>tt0000574</td>\n",
       "      <td>The Story of the Kelly Gang</td>\n",
       "      <td>1906</td>\n",
       "      <td>1906-12-26</td>\n",
       "      <td>Biography, Crime, Drama</td>\n",
       "      <td>70</td>\n",
       "      <td>Australia</td>\n",
       "      <td>NaN</td>\n",
       "      <td>Charles Tait</td>\n",
       "      <td>Charles Tait</td>\n",
       "      <td>...</td>\n",
       "      <td>6.0</td>\n",
       "      <td>19</td>\n",
       "      <td>6.6</td>\n",
       "      <td>14</td>\n",
       "      <td>6.3</td>\n",
       "      <td>64</td>\n",
       "      <td>6.0</td>\n",
       "      <td>89</td>\n",
       "      <td>6.2</td>\n",
       "      <td>309</td>\n",
       "    </tr>\n",
       "    <tr>\n",
       "      <th>1</th>\n",
       "      <td>tt0001892</td>\n",
       "      <td>Den sorte drøm</td>\n",
       "      <td>1911</td>\n",
       "      <td>1911-08-19</td>\n",
       "      <td>Drama</td>\n",
       "      <td>53</td>\n",
       "      <td>Germany, Denmark</td>\n",
       "      <td>NaN</td>\n",
       "      <td>Urban Gad</td>\n",
       "      <td>Urban Gad, Gebhard Schätzler-Perasini</td>\n",
       "      <td>...</td>\n",
       "      <td>5.8</td>\n",
       "      <td>4</td>\n",
       "      <td>6.5</td>\n",
       "      <td>8</td>\n",
       "      <td>5.9</td>\n",
       "      <td>29</td>\n",
       "      <td>6.2</td>\n",
       "      <td>27</td>\n",
       "      <td>6.0</td>\n",
       "      <td>114</td>\n",
       "    </tr>\n",
       "    <tr>\n",
       "      <th>2</th>\n",
       "      <td>tt0002101</td>\n",
       "      <td>Cleopatra</td>\n",
       "      <td>1912</td>\n",
       "      <td>1912-11-13</td>\n",
       "      <td>Drama, History</td>\n",
       "      <td>100</td>\n",
       "      <td>USA</td>\n",
       "      <td>English</td>\n",
       "      <td>Charles L. Gaskill</td>\n",
       "      <td>Victorien Sardou</td>\n",
       "      <td>...</td>\n",
       "      <td>5.5</td>\n",
       "      <td>14</td>\n",
       "      <td>6.2</td>\n",
       "      <td>20</td>\n",
       "      <td>4.9</td>\n",
       "      <td>57</td>\n",
       "      <td>5.5</td>\n",
       "      <td>197</td>\n",
       "      <td>4.7</td>\n",
       "      <td>103</td>\n",
       "    </tr>\n",
       "    <tr>\n",
       "      <th>3</th>\n",
       "      <td>tt0002130</td>\n",
       "      <td>L'Inferno</td>\n",
       "      <td>1911</td>\n",
       "      <td>1911-03-06</td>\n",
       "      <td>Adventure, Drama, Fantasy</td>\n",
       "      <td>68</td>\n",
       "      <td>Italy</td>\n",
       "      <td>Italian</td>\n",
       "      <td>Francesco Bertolini, Adolfo Padovan</td>\n",
       "      <td>Dante Alighieri</td>\n",
       "      <td>...</td>\n",
       "      <td>7.3</td>\n",
       "      <td>74</td>\n",
       "      <td>7.4</td>\n",
       "      <td>75</td>\n",
       "      <td>7.0</td>\n",
       "      <td>126</td>\n",
       "      <td>7.1</td>\n",
       "      <td>452</td>\n",
       "      <td>7.0</td>\n",
       "      <td>1076</td>\n",
       "    </tr>\n",
       "    <tr>\n",
       "      <th>4</th>\n",
       "      <td>tt0002199</td>\n",
       "      <td>From the Manger to the Cross; or, Jesus of Naz...</td>\n",
       "      <td>1912</td>\n",
       "      <td>1913-01-01</td>\n",
       "      <td>Biography, Drama</td>\n",
       "      <td>60</td>\n",
       "      <td>USA</td>\n",
       "      <td>English</td>\n",
       "      <td>Sidney Olcott</td>\n",
       "      <td>Gene Gauntier</td>\n",
       "      <td>...</td>\n",
       "      <td>4.8</td>\n",
       "      <td>10</td>\n",
       "      <td>6.5</td>\n",
       "      <td>15</td>\n",
       "      <td>5.7</td>\n",
       "      <td>56</td>\n",
       "      <td>5.9</td>\n",
       "      <td>161</td>\n",
       "      <td>5.7</td>\n",
       "      <td>164</td>\n",
       "    </tr>\n",
       "    <tr>\n",
       "      <th>...</th>\n",
       "      <td>...</td>\n",
       "      <td>...</td>\n",
       "      <td>...</td>\n",
       "      <td>...</td>\n",
       "      <td>...</td>\n",
       "      <td>...</td>\n",
       "      <td>...</td>\n",
       "      <td>...</td>\n",
       "      <td>...</td>\n",
       "      <td>...</td>\n",
       "      <td>...</td>\n",
       "      <td>...</td>\n",
       "      <td>...</td>\n",
       "      <td>...</td>\n",
       "      <td>...</td>\n",
       "      <td>...</td>\n",
       "      <td>...</td>\n",
       "      <td>...</td>\n",
       "      <td>...</td>\n",
       "      <td>...</td>\n",
       "      <td>...</td>\n",
       "    </tr>\n",
       "    <tr>\n",
       "      <th>81268</th>\n",
       "      <td>tt9903716</td>\n",
       "      <td>Jessie</td>\n",
       "      <td>2019</td>\n",
       "      <td>2019-03-15</td>\n",
       "      <td>Horror, Thriller</td>\n",
       "      <td>106</td>\n",
       "      <td>India</td>\n",
       "      <td>Telugu</td>\n",
       "      <td>Aswani Kumar V.</td>\n",
       "      <td>Aswani Kumar V.</td>\n",
       "      <td>...</td>\n",
       "      <td>5.6</td>\n",
       "      <td>6</td>\n",
       "      <td>6.7</td>\n",
       "      <td>3</td>\n",
       "      <td>2.0</td>\n",
       "      <td>4</td>\n",
       "      <td>5.0</td>\n",
       "      <td>14</td>\n",
       "      <td>7.1</td>\n",
       "      <td>45</td>\n",
       "    </tr>\n",
       "    <tr>\n",
       "      <th>81269</th>\n",
       "      <td>tt9905412</td>\n",
       "      <td>Ottam</td>\n",
       "      <td>2019</td>\n",
       "      <td>2019-03-08</td>\n",
       "      <td>Drama</td>\n",
       "      <td>120</td>\n",
       "      <td>India</td>\n",
       "      <td>Malayalam</td>\n",
       "      <td>Zam</td>\n",
       "      <td>Rajesh k Narayan</td>\n",
       "      <td>...</td>\n",
       "      <td>0.0</td>\n",
       "      <td>0</td>\n",
       "      <td>0.0</td>\n",
       "      <td>0</td>\n",
       "      <td>1.0</td>\n",
       "      <td>1</td>\n",
       "      <td>0.0</td>\n",
       "      <td>0</td>\n",
       "      <td>1.0</td>\n",
       "      <td>3</td>\n",
       "    </tr>\n",
       "    <tr>\n",
       "      <th>81270</th>\n",
       "      <td>tt9905462</td>\n",
       "      <td>Pengalila</td>\n",
       "      <td>2019</td>\n",
       "      <td>2019-03-08</td>\n",
       "      <td>Drama</td>\n",
       "      <td>111</td>\n",
       "      <td>India</td>\n",
       "      <td>Malayalam</td>\n",
       "      <td>T.V. Chandran</td>\n",
       "      <td>T.V. Chandran</td>\n",
       "      <td>...</td>\n",
       "      <td>0.0</td>\n",
       "      <td>0</td>\n",
       "      <td>0.0</td>\n",
       "      <td>0</td>\n",
       "      <td>1.0</td>\n",
       "      <td>1</td>\n",
       "      <td>0.0</td>\n",
       "      <td>0</td>\n",
       "      <td>4.0</td>\n",
       "      <td>3</td>\n",
       "    </tr>\n",
       "    <tr>\n",
       "      <th>81271</th>\n",
       "      <td>tt9911774</td>\n",
       "      <td>Padmavyuhathile Abhimanyu</td>\n",
       "      <td>2019</td>\n",
       "      <td>2019-03-08</td>\n",
       "      <td>Drama</td>\n",
       "      <td>130</td>\n",
       "      <td>India</td>\n",
       "      <td>Malayalam</td>\n",
       "      <td>Vineesh Aaradya</td>\n",
       "      <td>Vineesh Aaradya, Vineesh Aaradya</td>\n",
       "      <td>...</td>\n",
       "      <td>0.0</td>\n",
       "      <td>0</td>\n",
       "      <td>0.0</td>\n",
       "      <td>0</td>\n",
       "      <td>1.0</td>\n",
       "      <td>1</td>\n",
       "      <td>0.0</td>\n",
       "      <td>0</td>\n",
       "      <td>1.0</td>\n",
       "      <td>1</td>\n",
       "    </tr>\n",
       "    <tr>\n",
       "      <th>81272</th>\n",
       "      <td>tt9914286</td>\n",
       "      <td>Sokagin Çocuklari</td>\n",
       "      <td>2019</td>\n",
       "      <td>2019-03-15</td>\n",
       "      <td>Drama, Family</td>\n",
       "      <td>98</td>\n",
       "      <td>Turkey</td>\n",
       "      <td>Turkish</td>\n",
       "      <td>Ahmet Faik Akinci</td>\n",
       "      <td>Ahmet Faik Akinci, Kasim Uçkan</td>\n",
       "      <td>...</td>\n",
       "      <td>0.0</td>\n",
       "      <td>0</td>\n",
       "      <td>0.0</td>\n",
       "      <td>0</td>\n",
       "      <td>4.0</td>\n",
       "      <td>3</td>\n",
       "      <td>1.7</td>\n",
       "      <td>5</td>\n",
       "      <td>6.2</td>\n",
       "      <td>5</td>\n",
       "    </tr>\n",
       "  </tbody>\n",
       "</table>\n",
       "<p>81273 rows × 39 columns</p>\n",
       "</div>"
      ],
      "text/plain": [
       "      imdb_title_id                                              title  year  \\\n",
       "0         tt0000574                        The Story of the Kelly Gang  1906   \n",
       "1         tt0001892                                     Den sorte drøm  1911   \n",
       "2         tt0002101                                          Cleopatra  1912   \n",
       "3         tt0002130                                          L'Inferno  1911   \n",
       "4         tt0002199  From the Manger to the Cross; or, Jesus of Naz...  1912   \n",
       "...             ...                                                ...   ...   \n",
       "81268     tt9903716                                             Jessie  2019   \n",
       "81269     tt9905412                                              Ottam  2019   \n",
       "81270     tt9905462                                          Pengalila  2019   \n",
       "81271     tt9911774                          Padmavyuhathile Abhimanyu  2019   \n",
       "81272     tt9914286                                  Sokagin Çocuklari  2019   \n",
       "\n",
       "      date_published                      genre  duration           country  \\\n",
       "0         1906-12-26    Biography, Crime, Drama        70         Australia   \n",
       "1         1911-08-19                      Drama        53  Germany, Denmark   \n",
       "2         1912-11-13             Drama, History       100               USA   \n",
       "3         1911-03-06  Adventure, Drama, Fantasy        68             Italy   \n",
       "4         1913-01-01           Biography, Drama        60               USA   \n",
       "...              ...                        ...       ...               ...   \n",
       "81268     2019-03-15           Horror, Thriller       106             India   \n",
       "81269     2019-03-08                      Drama       120             India   \n",
       "81270     2019-03-08                      Drama       111             India   \n",
       "81271     2019-03-08                      Drama       130             India   \n",
       "81272     2019-03-15              Drama, Family        98            Turkey   \n",
       "\n",
       "        language                             director  \\\n",
       "0            NaN                         Charles Tait   \n",
       "1            NaN                            Urban Gad   \n",
       "2        English                   Charles L. Gaskill   \n",
       "3        Italian  Francesco Bertolini, Adolfo Padovan   \n",
       "4        English                        Sidney Olcott   \n",
       "...          ...                                  ...   \n",
       "81268     Telugu                      Aswani Kumar V.   \n",
       "81269  Malayalam                                  Zam   \n",
       "81270  Malayalam                        T.V. Chandran   \n",
       "81271  Malayalam                      Vineesh Aaradya   \n",
       "81272    Turkish                    Ahmet Faik Akinci   \n",
       "\n",
       "                                      writer  ... females_30age_avg_vote  \\\n",
       "0                               Charles Tait  ...                    6.0   \n",
       "1      Urban Gad, Gebhard Schätzler-Perasini  ...                    5.8   \n",
       "2                           Victorien Sardou  ...                    5.5   \n",
       "3                            Dante Alighieri  ...                    7.3   \n",
       "4                              Gene Gauntier  ...                    4.8   \n",
       "...                                      ...  ...                    ...   \n",
       "81268                        Aswani Kumar V.  ...                    5.6   \n",
       "81269                       Rajesh k Narayan  ...                    0.0   \n",
       "81270                          T.V. Chandran  ...                    0.0   \n",
       "81271       Vineesh Aaradya, Vineesh Aaradya  ...                    0.0   \n",
       "81272         Ahmet Faik Akinci, Kasim Uçkan  ...                    0.0   \n",
       "\n",
       "       females_30age_votes  females_45age_avg_vote  females_45age_votes  \\\n",
       "0                       19                     6.6                   14   \n",
       "1                        4                     6.5                    8   \n",
       "2                       14                     6.2                   20   \n",
       "3                       74                     7.4                   75   \n",
       "4                       10                     6.5                   15   \n",
       "...                    ...                     ...                  ...   \n",
       "81268                    6                     6.7                    3   \n",
       "81269                    0                     0.0                    0   \n",
       "81270                    0                     0.0                    0   \n",
       "81271                    0                     0.0                    0   \n",
       "81272                    0                     0.0                    0   \n",
       "\n",
       "       top1000_voters_rating  top1000_voters_votes  us_voters_rating  \\\n",
       "0                        6.3                    64               6.0   \n",
       "1                        5.9                    29               6.2   \n",
       "2                        4.9                    57               5.5   \n",
       "3                        7.0                   126               7.1   \n",
       "4                        5.7                    56               5.9   \n",
       "...                      ...                   ...               ...   \n",
       "81268                    2.0                     4               5.0   \n",
       "81269                    1.0                     1               0.0   \n",
       "81270                    1.0                     1               0.0   \n",
       "81271                    1.0                     1               0.0   \n",
       "81272                    4.0                     3               1.7   \n",
       "\n",
       "       us_voters_votes  non_us_voters_rating  non_us_voters_votes  \n",
       "0                   89                   6.2                  309  \n",
       "1                   27                   6.0                  114  \n",
       "2                  197                   4.7                  103  \n",
       "3                  452                   7.0                 1076  \n",
       "4                  161                   5.7                  164  \n",
       "...                ...                   ...                  ...  \n",
       "81268               14                   7.1                   45  \n",
       "81269                0                   1.0                    3  \n",
       "81270                0                   4.0                    3  \n",
       "81271                0                   1.0                    1  \n",
       "81272                5                   6.2                    5  \n",
       "\n",
       "[81273 rows x 39 columns]"
      ]
     },
     "execution_count": 18,
     "metadata": {},
     "output_type": "execute_result"
    }
   ],
   "source": [
    "drop_columns_movies = ['allgenders_45age_votes','allgenders_18age_avg_vote',\n",
    "       'allgenders_18age_votes', 'allgenders_30age_avg_vote',\n",
    "       'allgenders_30age_votes', 'allgenders_45age_avg_vote', 'mean_vote', 'median_vote']\n",
    "data_movies_ratings = data_movies_ratings.drop(drop_columns_movies, axis=1)\n",
    "data_movies_ratings"
   ]
  },
  {
   "cell_type": "code",
   "execution_count": 19,
   "metadata": {},
   "outputs": [
    {
     "data": {
      "text/plain": [
       "0        6.1\n",
       "1        6.0\n",
       "2        5.0\n",
       "3        7.0\n",
       "4        5.8\n",
       "        ... \n",
       "81268    7.1\n",
       "81269    3.0\n",
       "81270    4.0\n",
       "81271    5.5\n",
       "81272    3.4\n",
       "Name: males_allages_avg_vote, Length: 81273, dtype: float64"
      ]
     },
     "execution_count": 19,
     "metadata": {},
     "output_type": "execute_result"
    }
   ],
   "source": [
    "data_movies_ratings['males_allages_avg_vote']"
   ]
  },
  {
   "cell_type": "code",
   "execution_count": 20,
   "metadata": {},
   "outputs": [
    {
     "data": {
      "text/plain": [
       "genre            object\n",
       "imdb_title_id     int64\n",
       "female            int64\n",
       "male              int64\n",
       "dtype: object"
      ]
     },
     "execution_count": 20,
     "metadata": {},
     "output_type": "execute_result"
    }
   ],
   "source": [
    "data_genre = (data_movies.groupby(['genre']).agg({'imdb_title_id':'count'}).reset_index())\n",
    "data_genre['female']=data_movies_ratings['females_allages_votes']\n",
    "data_genre['male']=data_movies_ratings['males_allages_votes']\n",
    "data_genre.dtypes"
   ]
  },
  {
   "cell_type": "markdown",
   "metadata": {},
   "source": [
    "fig, ax = plt.subplots(figsize=(20,12))\n",
    "\n",
    "sns.scatterplot(data=data_genre,\n",
    "            x='genre',\n",
    "            y='male')"
   ]
  },
  {
   "cell_type": "code",
   "execution_count": 21,
   "metadata": {},
   "outputs": [
    {
     "data": {
      "text/html": [
       "<div>\n",
       "<style scoped>\n",
       "    .dataframe tbody tr th:only-of-type {\n",
       "        vertical-align: middle;\n",
       "    }\n",
       "\n",
       "    .dataframe tbody tr th {\n",
       "        vertical-align: top;\n",
       "    }\n",
       "\n",
       "    .dataframe thead th {\n",
       "        text-align: right;\n",
       "    }\n",
       "</style>\n",
       "<table border=\"1\" class=\"dataframe\">\n",
       "  <thead>\n",
       "    <tr style=\"text-align: right;\">\n",
       "      <th></th>\n",
       "      <th>0</th>\n",
       "      <th>1</th>\n",
       "      <th>2</th>\n",
       "    </tr>\n",
       "  </thead>\n",
       "  <tbody>\n",
       "    <tr>\n",
       "      <th>0</th>\n",
       "      <td>Action</td>\n",
       "      <td>None</td>\n",
       "      <td>None</td>\n",
       "    </tr>\n",
       "    <tr>\n",
       "      <th>1</th>\n",
       "      <td>Action</td>\n",
       "      <td>Adventure</td>\n",
       "      <td>None</td>\n",
       "    </tr>\n",
       "    <tr>\n",
       "      <th>2</th>\n",
       "      <td>Action</td>\n",
       "      <td>Adventure</td>\n",
       "      <td>Biography</td>\n",
       "    </tr>\n",
       "    <tr>\n",
       "      <th>3</th>\n",
       "      <td>Action</td>\n",
       "      <td>Adventure</td>\n",
       "      <td>Comedy</td>\n",
       "    </tr>\n",
       "    <tr>\n",
       "      <th>4</th>\n",
       "      <td>Action</td>\n",
       "      <td>Adventure</td>\n",
       "      <td>Crime</td>\n",
       "    </tr>\n",
       "    <tr>\n",
       "      <th>...</th>\n",
       "      <td>...</td>\n",
       "      <td>...</td>\n",
       "      <td>...</td>\n",
       "    </tr>\n",
       "    <tr>\n",
       "      <th>1259</th>\n",
       "      <td>Western</td>\n",
       "      <td>Comedy</td>\n",
       "      <td>None</td>\n",
       "    </tr>\n",
       "    <tr>\n",
       "      <th>1260</th>\n",
       "      <td>Western</td>\n",
       "      <td>Comedy</td>\n",
       "      <td>Drama</td>\n",
       "    </tr>\n",
       "    <tr>\n",
       "      <th>1261</th>\n",
       "      <td>Western</td>\n",
       "      <td>Drama</td>\n",
       "      <td>None</td>\n",
       "    </tr>\n",
       "    <tr>\n",
       "      <th>1262</th>\n",
       "      <td>Western</td>\n",
       "      <td>Family</td>\n",
       "      <td>None</td>\n",
       "    </tr>\n",
       "    <tr>\n",
       "      <th>1263</th>\n",
       "      <td>Western</td>\n",
       "      <td>Horror</td>\n",
       "      <td>None</td>\n",
       "    </tr>\n",
       "  </tbody>\n",
       "</table>\n",
       "<p>1264 rows × 3 columns</p>\n",
       "</div>"
      ],
      "text/plain": [
       "            0           1           2\n",
       "0      Action        None        None\n",
       "1      Action   Adventure        None\n",
       "2      Action   Adventure   Biography\n",
       "3      Action   Adventure      Comedy\n",
       "4      Action   Adventure       Crime\n",
       "...       ...         ...         ...\n",
       "1259  Western      Comedy        None\n",
       "1260  Western      Comedy       Drama\n",
       "1261  Western       Drama        None\n",
       "1262  Western      Family        None\n",
       "1263  Western      Horror        None\n",
       "\n",
       "[1264 rows x 3 columns]"
      ]
     },
     "execution_count": 21,
     "metadata": {},
     "output_type": "execute_result"
    }
   ],
   "source": [
    "data_genre = (data_genre['genre'].str.split(',', expand=True)).copy()\n",
    "data_genre"
   ]
  },
  {
   "cell_type": "code",
   "execution_count": 22,
   "metadata": {},
   "outputs": [],
   "source": [
    "data_genre['movie_title']=data_movies_ratings['title']\n",
    "\n",
    "#drama_movies_ratings = data_movies_ratings[data_movies_ratings.genre.str.contains('Drama', case=False)]"
   ]
  },
  {
   "cell_type": "code",
   "execution_count": 23,
   "metadata": {},
   "outputs": [
    {
     "data": {
      "text/plain": [
       "101"
      ]
     },
     "execution_count": 23,
     "metadata": {},
     "output_type": "execute_result"
    }
   ],
   "source": [
    "data_genre[data_genre[0].str.match('Animation')].count()[0]"
   ]
  },
  {
   "cell_type": "code",
   "execution_count": 24,
   "metadata": {},
   "outputs": [
    {
     "name": "stdout",
     "output_type": "stream",
     "text": [
      "Drama 165\n",
      "Horror 54\n",
      "Sci-Fi 26\n",
      "Romance 33\n",
      "Action 162\n",
      "Thriller 23\n",
      "Crime 84\n",
      "Mystery 36\n",
      "Animation 101\n",
      "Adventure 149\n",
      "Fantasy 51\n",
      "Western 12\n",
      "Adult 2\n",
      "Biography 55\n",
      "Documentary 1\n",
      "Family 67\n",
      "Film-Noir 8\n",
      "History 17\n",
      "Music 56\n",
      "Musical 41\n",
      "War 10\n"
     ]
    }
   ],
   "source": [
    "genres_movies = ['Drama', 'Horror', 'Sci-Fi', 'Romance', 'Action', 'Thriller', 'Crime', 'Mystery', 'Animation', 'Adventure', 'Fantasy', 'Western', 'Adult', 'Biography', 'Documentary', 'Family', 'Film-Noir', 'History', 'Music', 'Musical', 'War']\n",
    "\n",
    "for x in genres_movies:\n",
    "    count_genre = data_genre[data_genre[0].str.match(x)].count()[0]\n",
    "    print(x, count_genre)"
   ]
  },
  {
   "cell_type": "code",
   "execution_count": 25,
   "metadata": {},
   "outputs": [
    {
     "data": {
      "text/plain": [
       "array(['Action', 'Adult', 'Adventure', 'Animation', 'Biography', 'Comedy',\n",
       "       'Crime', 'Documentary', 'Drama', 'Family', 'Fantasy', 'Film-Noir',\n",
       "       'History', 'Horror', 'Music', 'Musical', 'Mystery', 'Romance',\n",
       "       'Sci-Fi', 'Sport', 'Thriller', 'War', 'Western'], dtype=object)"
      ]
     },
     "execution_count": 25,
     "metadata": {},
     "output_type": "execute_result"
    }
   ],
   "source": [
    "data_genre[0].unique()"
   ]
  },
  {
   "cell_type": "code",
   "execution_count": 26,
   "metadata": {},
   "outputs": [
    {
     "data": {
      "text/plain": [
       "0        Action\n",
       "1        Action\n",
       "2        Action\n",
       "3        Action\n",
       "4        Action\n",
       "         ...   \n",
       "1259    Western\n",
       "1260    Western\n",
       "1261    Western\n",
       "1262    Western\n",
       "1263    Western\n",
       "Name: 0, Length: 1264, dtype: object"
      ]
     },
     "execution_count": 26,
     "metadata": {},
     "output_type": "execute_result"
    }
   ],
   "source": [
    "data_genre[0]"
   ]
  },
  {
   "cell_type": "code",
   "execution_count": 27,
   "metadata": {},
   "outputs": [
    {
     "data": {
      "text/plain": [
       "0                0\n",
       "1               20\n",
       "2              253\n",
       "movie_title      0\n",
       "dtype: int64"
      ]
     },
     "execution_count": 27,
     "metadata": {},
     "output_type": "execute_result"
    }
   ],
   "source": [
    "data_genre.isnull().sum()"
   ]
  },
  {
   "cell_type": "code",
   "execution_count": 28,
   "metadata": {},
   "outputs": [
    {
     "data": {
      "text/plain": [
       "Index(['imdb_title_id', 'title', 'year', 'date_published', 'genre', 'duration',\n",
       "       'country', 'language', 'director', 'writer', 'production_company',\n",
       "       'avg_vote', 'votes', 'reviews_from_users', 'reviews_from_critics',\n",
       "       'weighted_average_vote', 'total_votes', 'males_allages_avg_vote',\n",
       "       'males_allages_votes', 'males_18age_avg_vote', 'males_18age_votes',\n",
       "       'males_30age_avg_vote', 'males_30age_votes', 'males_45age_avg_vote',\n",
       "       'males_45age_votes', 'females_allages_avg_vote',\n",
       "       'females_allages_votes', 'females_18age_avg_vote',\n",
       "       'females_18age_votes', 'females_30age_avg_vote', 'females_30age_votes',\n",
       "       'females_45age_avg_vote', 'females_45age_votes',\n",
       "       'top1000_voters_rating', 'top1000_voters_votes', 'us_voters_rating',\n",
       "       'us_voters_votes', 'non_us_voters_rating', 'non_us_voters_votes'],\n",
       "      dtype='object')"
      ]
     },
     "execution_count": 28,
     "metadata": {},
     "output_type": "execute_result"
    }
   ],
   "source": [
    "data_movies_ratings.columns"
   ]
  },
  {
   "cell_type": "code",
   "execution_count": 29,
   "metadata": {},
   "outputs": [
    {
     "data": {
      "text/plain": [
       "0       Biography, Crime, Drama\n",
       "1                         Drama\n",
       "2                Drama, History\n",
       "3     Adventure, Drama, Fantasy\n",
       "4              Biography, Drama\n",
       "5     Biography, Drama, Romance\n",
       "6                Drama, History\n",
       "7                  History, War\n",
       "8                         Drama\n",
       "9                         Drama\n",
       "10                 Crime, Drama\n",
       "11                        Drama\n",
       "12                 Crime, Drama\n",
       "13                   Drama, War\n",
       "14        Crime, Drama, Mystery\n",
       "15                        Drama\n",
       "16       Drama, Fantasy, Horror\n",
       "17                 Crime, Drama\n",
       "18             Adventure, Drama\n",
       "19                        Drama\n",
       "20         Crime, Drama, Horror\n",
       "21                      Western\n",
       "22    Adventure, Drama, History\n",
       "23               Fantasy, Drama\n",
       "24                 Crime, Drama\n",
       "25                 Crime, Drama\n",
       "26                 Crime, Drama\n",
       "27                       Comedy\n",
       "28                       Horror\n",
       "29               Drama, Mystery\n",
       "Name: genre, dtype: object"
      ]
     },
     "execution_count": 29,
     "metadata": {},
     "output_type": "execute_result"
    }
   ],
   "source": [
    "data_movies_ratings['genre'].head(30)"
   ]
  },
  {
   "cell_type": "code",
   "execution_count": 30,
   "metadata": {},
   "outputs": [],
   "source": [
    "data_movies_ratings = data_movies_ratings.to_csv('data_movies_ratings.csv', index=False)"
   ]
  },
  {
   "cell_type": "code",
   "execution_count": 33,
   "metadata": {},
   "outputs": [],
   "source": [
    "data_movies_ratings = pd.read_csv('data_movies_ratings.csv')"
   ]
  },
  {
   "cell_type": "code",
   "execution_count": 34,
   "metadata": {},
   "outputs": [
    {
     "data": {
      "text/html": [
       "<div>\n",
       "<style scoped>\n",
       "    .dataframe tbody tr th:only-of-type {\n",
       "        vertical-align: middle;\n",
       "    }\n",
       "\n",
       "    .dataframe tbody tr th {\n",
       "        vertical-align: top;\n",
       "    }\n",
       "\n",
       "    .dataframe thead th {\n",
       "        text-align: right;\n",
       "    }\n",
       "</style>\n",
       "<table border=\"1\" class=\"dataframe\">\n",
       "  <thead>\n",
       "    <tr style=\"text-align: right;\">\n",
       "      <th></th>\n",
       "      <th>imdb_title_id</th>\n",
       "      <th>title</th>\n",
       "      <th>year</th>\n",
       "      <th>date_published</th>\n",
       "      <th>genre</th>\n",
       "      <th>duration</th>\n",
       "      <th>country</th>\n",
       "      <th>language</th>\n",
       "      <th>director</th>\n",
       "      <th>writer</th>\n",
       "      <th>...</th>\n",
       "      <th>females_30age_avg_vote</th>\n",
       "      <th>females_30age_votes</th>\n",
       "      <th>females_45age_avg_vote</th>\n",
       "      <th>females_45age_votes</th>\n",
       "      <th>top1000_voters_rating</th>\n",
       "      <th>top1000_voters_votes</th>\n",
       "      <th>us_voters_rating</th>\n",
       "      <th>us_voters_votes</th>\n",
       "      <th>non_us_voters_rating</th>\n",
       "      <th>non_us_voters_votes</th>\n",
       "    </tr>\n",
       "  </thead>\n",
       "  <tbody>\n",
       "    <tr>\n",
       "      <th>0</th>\n",
       "      <td>tt0000574</td>\n",
       "      <td>The Story of the Kelly Gang</td>\n",
       "      <td>1906</td>\n",
       "      <td>1906-12-26</td>\n",
       "      <td>Biography, Crime, Drama</td>\n",
       "      <td>70</td>\n",
       "      <td>Australia</td>\n",
       "      <td>NaN</td>\n",
       "      <td>Charles Tait</td>\n",
       "      <td>Charles Tait</td>\n",
       "      <td>...</td>\n",
       "      <td>6.0</td>\n",
       "      <td>19</td>\n",
       "      <td>6.6</td>\n",
       "      <td>14</td>\n",
       "      <td>6.3</td>\n",
       "      <td>64</td>\n",
       "      <td>6.0</td>\n",
       "      <td>89</td>\n",
       "      <td>6.2</td>\n",
       "      <td>309</td>\n",
       "    </tr>\n",
       "    <tr>\n",
       "      <th>1</th>\n",
       "      <td>tt0001892</td>\n",
       "      <td>Den sorte drøm</td>\n",
       "      <td>1911</td>\n",
       "      <td>1911-08-19</td>\n",
       "      <td>Drama</td>\n",
       "      <td>53</td>\n",
       "      <td>Germany, Denmark</td>\n",
       "      <td>NaN</td>\n",
       "      <td>Urban Gad</td>\n",
       "      <td>Urban Gad, Gebhard Schätzler-Perasini</td>\n",
       "      <td>...</td>\n",
       "      <td>5.8</td>\n",
       "      <td>4</td>\n",
       "      <td>6.5</td>\n",
       "      <td>8</td>\n",
       "      <td>5.9</td>\n",
       "      <td>29</td>\n",
       "      <td>6.2</td>\n",
       "      <td>27</td>\n",
       "      <td>6.0</td>\n",
       "      <td>114</td>\n",
       "    </tr>\n",
       "    <tr>\n",
       "      <th>2</th>\n",
       "      <td>tt0002101</td>\n",
       "      <td>Cleopatra</td>\n",
       "      <td>1912</td>\n",
       "      <td>1912-11-13</td>\n",
       "      <td>Drama, History</td>\n",
       "      <td>100</td>\n",
       "      <td>USA</td>\n",
       "      <td>English</td>\n",
       "      <td>Charles L. Gaskill</td>\n",
       "      <td>Victorien Sardou</td>\n",
       "      <td>...</td>\n",
       "      <td>5.5</td>\n",
       "      <td>14</td>\n",
       "      <td>6.2</td>\n",
       "      <td>20</td>\n",
       "      <td>4.9</td>\n",
       "      <td>57</td>\n",
       "      <td>5.5</td>\n",
       "      <td>197</td>\n",
       "      <td>4.7</td>\n",
       "      <td>103</td>\n",
       "    </tr>\n",
       "  </tbody>\n",
       "</table>\n",
       "<p>3 rows × 39 columns</p>\n",
       "</div>"
      ],
      "text/plain": [
       "  imdb_title_id                        title  year date_published  \\\n",
       "0     tt0000574  The Story of the Kelly Gang  1906     1906-12-26   \n",
       "1     tt0001892               Den sorte drøm  1911     1911-08-19   \n",
       "2     tt0002101                    Cleopatra  1912     1912-11-13   \n",
       "\n",
       "                     genre  duration           country language  \\\n",
       "0  Biography, Crime, Drama        70         Australia      NaN   \n",
       "1                    Drama        53  Germany, Denmark      NaN   \n",
       "2           Drama, History       100               USA  English   \n",
       "\n",
       "             director                                 writer  ...  \\\n",
       "0        Charles Tait                           Charles Tait  ...   \n",
       "1           Urban Gad  Urban Gad, Gebhard Schätzler-Perasini  ...   \n",
       "2  Charles L. Gaskill                       Victorien Sardou  ...   \n",
       "\n",
       "  females_30age_avg_vote  females_30age_votes  females_45age_avg_vote  \\\n",
       "0                    6.0                   19                     6.6   \n",
       "1                    5.8                    4                     6.5   \n",
       "2                    5.5                   14                     6.2   \n",
       "\n",
       "   females_45age_votes  top1000_voters_rating  top1000_voters_votes  \\\n",
       "0                   14                    6.3                    64   \n",
       "1                    8                    5.9                    29   \n",
       "2                   20                    4.9                    57   \n",
       "\n",
       "   us_voters_rating  us_voters_votes  non_us_voters_rating  \\\n",
       "0               6.0               89                   6.2   \n",
       "1               6.2               27                   6.0   \n",
       "2               5.5              197                   4.7   \n",
       "\n",
       "   non_us_voters_votes  \n",
       "0                  309  \n",
       "1                  114  \n",
       "2                  103  \n",
       "\n",
       "[3 rows x 39 columns]"
      ]
     },
     "execution_count": 34,
     "metadata": {},
     "output_type": "execute_result"
    }
   ],
   "source": [
    "data_movies_ratings.head(3)\n",
    "         "
   ]
  },
  {
   "cell_type": "code",
   "execution_count": 35,
   "metadata": {},
   "outputs": [
    {
     "data": {
      "text/plain": [
       "0               Australia\n",
       "1        Germany, Denmark\n",
       "2                     USA\n",
       "3                   Italy\n",
       "4                     USA\n",
       "               ...       \n",
       "81268               India\n",
       "81269               India\n",
       "81270               India\n",
       "81271               India\n",
       "81272              Turkey\n",
       "Name: country, Length: 81273, dtype: object"
      ]
     },
     "execution_count": 35,
     "metadata": {},
     "output_type": "execute_result"
    }
   ],
   "source": [
    "data_movies_ratings['country']"
   ]
  },
  {
   "cell_type": "code",
   "execution_count": 36,
   "metadata": {},
   "outputs": [
    {
     "data": {
      "text/plain": [
       "0          Biography, Crime, Drama\n",
       "1                            Drama\n",
       "2                   Drama, History\n",
       "3        Adventure, Drama, Fantasy\n",
       "4                 Biography, Drama\n",
       "                   ...            \n",
       "81268             Horror, Thriller\n",
       "81269                        Drama\n",
       "81270                        Drama\n",
       "81271                        Drama\n",
       "81272                Drama, Family\n",
       "Name: genre, Length: 81273, dtype: object"
      ]
     },
     "execution_count": 36,
     "metadata": {},
     "output_type": "execute_result"
    }
   ],
   "source": [
    "data_movies_ratings['genre']"
   ]
  },
  {
   "cell_type": "code",
   "execution_count": 37,
   "metadata": {},
   "outputs": [],
   "source": [
    "drama_movies_ratings = data_movies_ratings[data_movies_ratings.genre.str.contains('Drama', case=False)]\n",
    "horror_movies_ratings = data_movies_ratings[data_movies_ratings.genre.str.contains('Horror', case=False)]\n",
    "scifi_movies_ratings = data_movies_ratings[data_movies_ratings.genre.str.contains('Sci-Fi', case=False)]\n",
    "romance_movies_ratings = data_movies_ratings[data_movies_ratings.genre.str.contains('Romance', case=False)]\n",
    "action_movies_ratings = data_movies_ratings[data_movies_ratings.genre.str.contains('Action', case=False)]\n",
    "thriller_movies_ratings = data_movies_ratings[data_movies_ratings.genre.str.contains('Thriller', case=False)]\n",
    "mystery_movies_ratings = data_movies_ratings[data_movies_ratings.genre.str.contains('Mystery', case=False)]\n",
    "crime_movies_ratings = data_movies_ratings[data_movies_ratings.genre.str.contains('crime', case=False)]\n",
    "animation_movies_ratings = data_movies_ratings[data_movies_ratings.genre.str.contains('animation', case=False)]\n",
    "adventure_movies_ratings = data_movies_ratings[data_movies_ratings.genre.str.contains('adventure', case=False)]\n",
    "fantasy_movies_ratings = data_movies_ratings[data_movies_ratings.genre.str.contains('fantasy', case=False)]"
   ]
  },
  {
   "cell_type": "code",
   "execution_count": 38,
   "metadata": {},
   "outputs": [],
   "source": [
    "def genre_movie_ratings():\n",
    "    for genre in genres_movies:\n",
    "        genres_df = data_movies_ratings[data_movies_ratings.genre.str.contains(genre, case=False)]\n",
    "        genres_df.to_csv(f'./Genres/data_movies_ratings_{genre}.csv', index=False)\n",
    "        "
   ]
  },
  {
   "cell_type": "code",
   "execution_count": 39,
   "metadata": {},
   "outputs": [],
   "source": [
    "genre_movie_ratings()"
   ]
  },
  {
   "cell_type": "code",
   "execution_count": 40,
   "metadata": {},
   "outputs": [],
   "source": [
    "crime_drama = data_movies_ratings[data_movies_ratings.genre.str.contains('Crime, Drama', case=False)]\n",
    "drama_romance = data_movies_ratings[data_movies_ratings.genre.str.contains('Drama, Romance', case=False)]\n",
    "comedy_romance = data_movies_ratings[data_movies_ratings.genre.str.contains('comedy, romance', case=False)]\n",
    "thriller_horror = data_movies_ratings[data_movies_ratings.genre.str.contains('thriller, horror', case=False)]\n"
   ]
  },
  {
   "cell_type": "code",
   "execution_count": 41,
   "metadata": {},
   "outputs": [
    {
     "data": {
      "text/plain": [
       "0       Biography, Crime, Drama\n",
       "1                         Drama\n",
       "2                Drama, History\n",
       "3     Adventure, Drama, Fantasy\n",
       "4              Biography, Drama\n",
       "                ...            \n",
       "65            Adventure, Comedy\n",
       "66                 Crime, Drama\n",
       "67             Romance, Western\n",
       "68        Crime, Drama, Romance\n",
       "69                      Western\n",
       "Name: genre, Length: 70, dtype: object"
      ]
     },
     "execution_count": 41,
     "metadata": {},
     "output_type": "execute_result"
    }
   ],
   "source": [
    "data_movies_ratings['genre'].head(70)"
   ]
  },
  {
   "cell_type": "code",
   "execution_count": 42,
   "metadata": {},
   "outputs": [
    {
     "data": {
      "text/plain": [
       "year       int64\n",
       "country    int64\n",
       "dtype: object"
      ]
     },
     "execution_count": 42,
     "metadata": {},
     "output_type": "execute_result"
    }
   ],
   "source": [
    "fantasy_grouped_year = fantasy_movies_ratings.groupby('year').agg({'country':'count'}).reset_index()\n",
    "animation_grouped_year = animation_movies_ratings.groupby('year').agg({'country':'count'}).reset_index()\n",
    "fantasy_grouped_year.dtypes"
   ]
  },
  {
   "cell_type": "code",
   "execution_count": 43,
   "metadata": {},
   "outputs": [
    {
     "data": {
      "text/plain": [
       "<matplotlib.axes._subplots.AxesSubplot at 0x1df6d6a61c0>"
      ]
     },
     "execution_count": 43,
     "metadata": {},
     "output_type": "execute_result"
    },
    {
     "data": {
      "image/png": "[encoded data removed]",
      "text/plain": [
       "<Figure size 432x288 with 1 Axes>"
      ]
     },
     "metadata": {
      "needs_background": "light"
     },
     "output_type": "display_data"
    }
   ],
   "source": [
    "sns.lineplot(data=fantasy_grouped_year,\n",
    "            x='year',\n",
    "            y='country',\n",
    "            color='tomato')\n",
    "sns.lineplot(data=animation_grouped_year,\n",
    "            x='year',\n",
    "            y='country',\n",
    "            color='pink')"
   ]
  },
  {
   "cell_type": "code",
   "execution_count": 44,
   "metadata": {},
   "outputs": [
    {
     "data": {
      "text/plain": [
       "Index(['imdb_title_id', 'title', 'year', 'date_published', 'genre', 'duration',\n",
       "       'country', 'language', 'director', 'writer', 'production_company',\n",
       "       'avg_vote', 'votes', 'reviews_from_users', 'reviews_from_critics',\n",
       "       'weighted_average_vote', 'total_votes', 'males_allages_avg_vote',\n",
       "       'males_allages_votes', 'males_18age_avg_vote', 'males_18age_votes',\n",
       "       'males_30age_avg_vote', 'males_30age_votes', 'males_45age_avg_vote',\n",
       "       'males_45age_votes', 'females_allages_avg_vote',\n",
       "       'females_allages_votes', 'females_18age_avg_vote',\n",
       "       'females_18age_votes', 'females_30age_avg_vote', 'females_30age_votes',\n",
       "       'females_45age_avg_vote', 'females_45age_votes',\n",
       "       'top1000_voters_rating', 'top1000_voters_votes', 'us_voters_rating',\n",
       "       'us_voters_votes', 'non_us_voters_rating', 'non_us_voters_votes'],\n",
       "      dtype='object')"
      ]
     },
     "execution_count": 44,
     "metadata": {},
     "output_type": "execute_result"
    }
   ],
   "source": [
    "drama_movies_ratings.columns"
   ]
  },
  {
   "cell_type": "code",
   "execution_count": 45,
   "metadata": {},
   "outputs": [],
   "source": [
    "data_movies_ratings = data_movies_ratings.to_csv('data_movies_ratings.csv', index=False)"
   ]
  },
  {
   "cell_type": "code",
   "execution_count": null,
   "metadata": {},
   "outputs": [],
   "source": []
  },
  {
   "cell_type": "code",
   "execution_count": null,
   "metadata": {},
   "outputs": [],
   "source": []
  },
  {
   "cell_type": "code",
   "execution_count": null,
   "metadata": {},
   "outputs": [],
   "source": []
  },
  {
   "cell_type": "code",
   "execution_count": null,
   "metadata": {},
   "outputs": [],
   "source": []
  },
  {
   "cell_type": "code",
   "execution_count": null,
   "metadata": {},
   "outputs": [],
   "source": []
  }
 ],
 "metadata": {
  "kernelspec": {
   "display_name": "Python 3",
   "language": "python",
   "name": "python3"
  },
  "language_info": {
   "codemirror_mode": {
    "name": "ipython",
    "version": 3
   },
   "file_extension": ".py",
   "mimetype": "text/x-python",
   "name": "python",
   "nbconvert_exporter": "python",
   "pygments_lexer": "ipython3",
   "version": "3.8.3"
  }
 },
 "nbformat": 4,
 "nbformat_minor": 4
}
