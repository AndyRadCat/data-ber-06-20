{
 "cells": [
  {
   "cell_type": "code",
   "execution_count": null,
   "metadata": {},
   "outputs": [],
   "source": [
    "a = 918652728452151\n",
    "\n",
    "if a % 17 == 0 and len(str(a)) > 12:\n",
    "    print(\"true to both thingies, super17\")\n",
    "elif a % 13 == 0 and len(str(a)) > 10:\n",
    "    print(\"failed the first, but true to the second, awesome13\")\n",
    "else:\n",
    "    print(\"it's not such a cool number\")\n",
    "\n",
    "\n"
   ]
  },
  {
   "cell_type": "code",
   "execution_count": null,
   "metadata": {},
   "outputs": [],
   "source": [
    "numbers = [1, 5, 12, 91, 102]\n",
    "\n",
    "for i in numbers: \n",
    "    print(i**2)"
   ]
  },
  {
   "cell_type": "code",
   "execution_count": null,
   "metadata": {},
   "outputs": [],
   "source": [
    "my_list = [1,5,12,91,102]\n",
    "my_list_lenght = len(my_list)\n",
    "\n",
    "for i in range(0,my_list_lenght):\n",
    "    print(i, my_list[i] **2)"
   ]
  },
  {
   "cell_type": "code",
   "execution_count": null,
   "metadata": {},
   "outputs": [],
   "source": [
    "my_string = \"python\"\n",
    "x = 0\n",
    "\n",
    "for i in my_string:\n",
    "    x += 1\n",
    "    print(my_string[0:x])\n",
    "    \n",
    "for i in my_string:\n",
    "    x -= 1\n",
    "    print(my_string[0:x])"
   ]
  },
  {
   "cell_type": "code",
   "execution_count": null,
   "metadata": {},
   "outputs": [],
   "source": [
    "my_movies = [['How I Met Your Mother', 'Friends', 'Silicon Valley'],\n",
    "    ['Family Guy', 'South Park', 'Rick and Morty'],\n",
    "    ['Breaking Bad', 'Game of Thrones', 'The Wire']]\n",
    "\n",
    "for x in my_movies:\n",
    "    for movie_name in x:\n",
    "        char_num = len(movie_name)\n",
    "print(\"The title \" + movie_name + \" is \" + str(char_num) + \" characters long.\")"
   ]
  },
  {
   "cell_type": "code",
   "execution_count": null,
   "metadata": {},
   "outputs": [],
   "source": [
    "for i in range(0,50):\n",
    "    if i % 3 == 0 and i % 5 == 0:\n",
    "        print(\"FizzBuzz\")\n",
    "    elif i % 3 == 0:\n",
    "        print(\"fizz\")\n",
    "    elif i % 5 == 0:\n",
    "        print(\"buzz\")\n",
    "    else:\n",
    "        print(i)"
   ]
  },
  {
   "cell_type": "code",
   "execution_count": null,
   "metadata": {},
   "outputs": [],
   "source": [
    "for i in range(0, 10000000000):\n",
    "    if len(str(i)) == 7 and i % 137 == 0:\n",
    "        print(i)\n",
    "        break"
   ]
  },
  {
   "cell_type": "code",
   "execution_count": null,
   "metadata": {},
   "outputs": [],
   "source": [
    "for i in range(0, 10000000, 137):\n",
    "    if len(str(i)) == 7:\n",
    "        print(i)\n",
    "        break"
   ]
  },
  {
   "cell_type": "code",
   "execution_count": 10,
   "metadata": {},
   "outputs": [
    {
     "name": "stdout",
     "output_type": "stream",
     "text": [
      "Are you 50 years old?less\n",
      "Are you 25 years old?more\n",
      "Are you 37 years old?less\n",
      "Are you 31 years old?less\n",
      "Are you 28 years old?more\n",
      "Are you 29 years old?correct\n",
      "Nice\n"
     ]
    }
   ],
   "source": [
    "\"\"\"\n",
    "Create a Python script that finds out your age in a maximum \n",
    "of 8 tries!\n",
    "The script can ask you only one type of question: guessing \n",
    "your age! (e.g. “Are you 67 years old?”) And you can answer\n",
    "only one of these three options:\n",
    "\n",
    "less\n",
    "more\n",
    "correct\n",
    "\n",
    "Based on your answer the computer can come up \n",
    "with another guess until it finds out your exact age.\n",
    "\n",
    "use input()\n",
    "\"\"\"\n",
    "down = 0\n",
    "up = 100\n",
    "for i in range(1,10):\n",
    "    guessed_age = int((up + down) / 2)\n",
    "    answer = input('Are you ' + str(guessed_age) + \" years old?\")\n",
    "    if answer == 'correct':\n",
    "        print(\"Nice\")\n",
    "        break\n",
    "    elif answer == 'less':\n",
    "        up = guessed_age\n",
    "    elif answer == 'more':\n",
    "        down = guessed_age\n",
    "    else:\n",
    "        print('wrong answer')\n",
    "        \n",
    "\n",
    "\n"
   ]
  },
  {
   "cell_type": "code",
   "execution_count": null,
   "metadata": {},
   "outputs": [],
   "source": []
  },
  {
   "cell_type": "code",
   "execution_count": null,
   "metadata": {},
   "outputs": [],
   "source": []
  }
 ],
 "metadata": {
  "kernelspec": {
   "display_name": "Python 3",
   "language": "python",
   "name": "python3"
  },
  "language_info": {
   "codemirror_mode": {
    "name": "ipython",
    "version": 3
   },
   "file_extension": ".py",
   "mimetype": "text/x-python",
   "name": "python",
   "nbconvert_exporter": "python",
   "pygments_lexer": "ipython3",
   "version": "3.7.6"
  }
 },
 "nbformat": 4,
 "nbformat_minor": 4
}
