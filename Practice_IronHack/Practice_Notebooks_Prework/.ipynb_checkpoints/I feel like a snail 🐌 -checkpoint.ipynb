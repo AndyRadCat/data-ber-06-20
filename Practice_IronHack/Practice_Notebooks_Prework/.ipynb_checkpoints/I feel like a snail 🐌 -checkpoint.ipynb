{
 "cells": [
  {
   "cell_type": "code",
   "execution_count": 3,
   "metadata": {
    "scrolled": true
   },
   "outputs": [
    {
     "name": "stdout",
     "output_type": "stream",
     "text": [
      "not there yet, it's been already 1 days\n",
      "not there yet, it's been already 2 days\n",
      "not there yet, it's been already 3 days\n",
      "not there yet, it's been already 4 days\n",
      "not there yet, it's been already 5 days\n",
      "not there yet, it's been already 6 days\n",
      "not there yet, it's been already 7 days\n",
      "not there yet, it's been already 8 days\n",
      "not there yet, it's been already 9 days\n",
      "not there yet, it's been already 10 days\n",
      "not there yet, it's been already 11 days\n",
      "not there yet, it's been already 12 days\n",
      "not there yet, it's been already 13 days\n",
      "You did it little snail! It took you 13 days!\n"
     ]
    }
   ],
   "source": [
    "#snail exercise CORRECT\n",
    "\n",
    "height_well = 125\n",
    "day_distance = 30\n",
    "night_distance = -20\n",
    "days = 0\n",
    "total_distance = 0\n",
    "\n",
    "amount_distance= day_distance + night_distance\n",
    "\n",
    "\n",
    "while total_distance <= height_well:\n",
    "    total_distance += amount_distance\n",
    "    \n",
    "    days += 1\n",
    "    print(\"not there yet, it's been already\", days, \"days\")\n",
    "\n",
    "print(f'You did it little snail! It took you {days} days!')\n",
    "    "
   ]
  },
  {
   "cell_type": "code",
   "execution_count": 4,
   "metadata": {},
   "outputs": [
    {
     "name": "stdout",
     "output_type": "stream",
     "text": [
      "He has travelled 10 cms\n",
      "snail is not out\n",
      "He has travelled 11 cms\n",
      "snail is not out\n",
      "He has travelled 24 cms\n",
      "snail is not out\n",
      "He has travelled 81 cms\n",
      "snail is not out\n",
      "He has travelled 105 cms\n",
      "snail is not out\n",
      "He has travelled 130 cms\n",
      "snail is out! it took him 5 days\n"
     ]
    }
   ],
   "source": [
    "\n",
    "#Bonus Snail - CORRECT VERSION\n",
    "\n",
    "\"\"\"\n",
    "The distance traveled by the snail each day is now defined by a list.\n",
    "\n",
    "advance_cm = [30, 21, 33, 77, 44, 45, 23, 45, 12, 34, 55]\n",
    "On the first day, the snail rises 30cm but during the night it slides 20cm. \n",
    "On the second day, the snail rises 21cm but during the night it slides 20cm, \n",
    "and so on.\n",
    "\n",
    "1. How many days does it take for the snail to escape the well?\n",
    "Follow the same guidelines as in the previous challenge.\n",
    "\n",
    "Hint: Remember that the snail gets out of the well when it surpasses the\n",
    "125cm of height.\n",
    "\"\"\"\n",
    "night_retreat = -20\n",
    "advance_cm = [30, 21, 33, 77, 44, 45, 23, 45, 12, 34, 55]\n",
    "snail = 0\n",
    "\n",
    "for idx,x in enumerate(advance_cm):\n",
    "    snail += night_retreat + x  \n",
    "    print(f\"He has travelled {snail} cms\")\n",
    "    \n",
    "    if snail <= 125:\n",
    "        print(\"snail is not out\")\n",
    "\n",
    "    else:\n",
    "        print(f\"snail is out! it took him {idx} days\")\n",
    "        break"
   ]
  },
  {
   "cell_type": "code",
   "execution_count": 5,
   "metadata": {},
   "outputs": [
    {
     "name": "stdout",
     "output_type": "stream",
     "text": [
      "Gandalf wins\n",
      "[6, 4]\n"
     ]
    }
   ],
   "source": [
    "#Duel of Sorcerers CORRECT\n",
    "\"\"\"\n",
    "You are witnessing an epic battle between two powerful sorcerers: Gandalf and Saruman. \n",
    "Each sorcerer has 10 spells of variable power in their mind and they are going to throw \n",
    "them one after the other. The winner of the duel will be the one who wins more of those clashes\n",
    "between spells. Spells are represented as a list of 10 integers whose value equals the power of\n",
    "the spell.\n",
    "\n",
    "gandalf = [10, 11, 13, 30, 22, 11, 10, 33, 22, 22]\n",
    "saruman = [23, 66, 12, 43, 12, 10, 44, 23, 12, 17]\n",
    "\"\"\"\n",
    "gandalf = [10, 11, 13, 30, 22, 11, 10, 33, 22, 22]\n",
    "saruman = [23, 66, 12, 43, 12, 10, 44, 23, 12, 17]\n",
    "battles_won = [0,0]\n",
    "\n",
    "for g,s in zip(gandalf, saruman):\n",
    "    if g > s:\n",
    "        battles_won[0] += 1\n",
    "    elif g < s:\n",
    "        battles_won[1] += 1\n",
    "        \n",
    "if battles_won[0] < battles_won[1]:\n",
    "    print(\"Saruman wins\")\n",
    "elif battles_won[0] > battles_won[1]:\n",
    "    print(\"Gandalf wins\")\n",
    "else:\n",
    "    print(\"It's a tie\")\n",
    "    \n",
    "print(battles_won)\n",
    "    "
   ]
  },
  {
   "cell_type": "code",
   "execution_count": 9,
   "metadata": {},
   "outputs": [
    {
     "name": "stdout",
     "output_type": "stream",
     "text": [
      "it's 9 stops\n"
     ]
    }
   ],
   "source": [
    "\"\"\"\n",
    "BUS\n",
    "\n",
    "This bus has a passenger entry and exit control system to monitor the \n",
    "number of occupants it carries and thus detect when there are too many.\n",
    "\n",
    "At each stop, the entry and exit of passengers is represented by a tuple \n",
    "consisting of two integer numbers.\n",
    "\n",
    "bus_stop = (in, out)\n",
    "The succession of stops is represented by a list of these tuples.\n",
    "\n",
    "stops = [(in1, out1), (in2, out2), (in3, out3), (in4, out4)]\n",
    "\n",
    "# Variables\n",
    "stops = [(10, 0), (4, 1), (3, 5), (3, 4), (5, 1), (1, 5), (5, 8), (4, 6), (2, 3)]\n",
    "\"\"\"\n",
    "stops = [(10, 0), (4, 1), (3, 5), (3, 4), (5, 1), (1, 5), (5, 8), (4, 6), (2, 3)]\n",
    "print(\"it's\", len(stops), \"stops\")"
   ]
  },
  {
   "cell_type": "code",
   "execution_count": 7,
   "metadata": {},
   "outputs": [
    {
     "name": "stdout",
     "output_type": "stream",
     "text": [
      "[10, 13, 11, 10, 14, 10, 7, 5, 4]\n"
     ]
    }
   ],
   "source": [
    "#Bus\n",
    "num_pass = [10]\n",
    "\n",
    "for idx,(inn,out) in enumerate(stops[1:]):\n",
    "    num_pass.append(num_pass[idx] + inn - out)\n",
    "    \n",
    "    \n",
    "print(num_pass)\n"
   ]
  },
  {
   "cell_type": "code",
   "execution_count": 8,
   "metadata": {},
   "outputs": [
    {
     "data": {
      "text/plain": [
       "14"
      ]
     },
     "execution_count": 8,
     "metadata": {},
     "output_type": "execute_result"
    }
   ],
   "source": [
    "#Bus\n",
    "max(num_pass)\n"
   ]
  },
  {
   "cell_type": "code",
   "execution_count": 10,
   "metadata": {},
   "outputs": [
    {
     "data": {
      "text/plain": [
       "9.333333333333334"
      ]
     },
     "execution_count": 10,
     "metadata": {},
     "output_type": "execute_result"
    }
   ],
   "source": [
    "#BUS\n",
    "sum(num_pass)/len(num_pass)\n",
    "\n"
   ]
  },
  {
   "cell_type": "code",
   "execution_count": 15,
   "metadata": {},
   "outputs": [
    {
     "data": {
      "text/plain": [
       "3.197221015541813"
      ]
     },
     "execution_count": 15,
     "metadata": {},
     "output_type": "execute_result"
    }
   ],
   "source": [
    "import statistics\n",
    "statistics.pstdev(num_pass)"
   ]
  },
  {
   "cell_type": "code",
   "execution_count": 46,
   "metadata": {},
   "outputs": [
    {
     "name": "stdout",
     "output_type": "stream",
     "text": [
      "The coordinates where Robin hits another arrow are:  [(4, 5), (-3, 2), (5, 7), (2, 2)]\n"
     ]
    }
   ],
   "source": [
    "\"\"\"\n",
    "Robin Hood\n",
    "In the 2-dimensional space, a point can be defined by a pair of values \n",
    "that correspond to the horizontal coordinate (x) and the vertical \n",
    "coordinate (y). For example, in our case, an arrow that hits the center \n",
    "of the archery target will land in position (0, 0) on the coordinate axes.\n",
    "\n",
    "The space can be divided into 4 zones (quadrants): Q1, Q2, Q3, Q4.\n",
    "If a point is in Q1, both its x coordinate and y coordinate are positive.\n",
    "Any point with a null x or y coordinate is considered to not belong to any\n",
    "quadrant.\n",
    "\n",
    "1. Robin Hood is famous for hitting an arrow with another arrow. \n",
    "Find the coordinates of the points where an \n",
    "arrow hits another arrow\n",
    "\"\"\"\n",
    "\n",
    "points = [(4, 5), (-0, 2), (4, 7), (1, -3), (3, -2), (4, 5), (3, 2), (5, 7), \n",
    "          (-5, 7), (2, 2), (-4, 5), (0, -2),\n",
    "          (-4, 7), (-1, 3), (-3, 2), (-4, -5), (-3, 2), (5, 7), (5, 7), \n",
    "          (2, 2), (9, 9), (-8, -9)]\n",
    "\n",
    "not_dupes = {}\n",
    "arrow = []\n",
    "\n",
    "for x in points:\n",
    "    if x not in not_dupes:\n",
    "        not_dupes[x] = 1\n",
    "    else:\n",
    "        if not_dupes[x] == 1:\n",
    "            arrow.append(x)\n",
    "        not_dupes[x] += 1\n",
    "print(\"The coordinates where Robin hits another arrow are: \", arrow)\n",
    "\n",
    "\n",
    "    "
   ]
  },
  {
   "cell_type": "code",
   "execution_count": 62,
   "metadata": {},
   "outputs": [
    {
     "ename": "TypeError",
     "evalue": "list indices must be integers or slices, not tuple",
     "output_type": "error",
     "traceback": [
      "\u001b[1;31m---------------------------------------------------------------------------\u001b[0m",
      "\u001b[1;31mTypeError\u001b[0m                                 Traceback (most recent call last)",
      "\u001b[1;32m<ipython-input-62-f851653e43bd>\u001b[0m in \u001b[0;36m<module>\u001b[1;34m\u001b[0m\n\u001b[0;32m     13\u001b[0m     \u001b[1;32mif\u001b[0m \u001b[0mx\u001b[0m \u001b[1;33m>\u001b[0m \u001b[1;36m0\u001b[0m \u001b[1;32mand\u001b[0m \u001b[0my\u001b[0m \u001b[1;33m>\u001b[0m \u001b[1;36m0\u001b[0m\u001b[1;33m:\u001b[0m\u001b[1;33m\u001b[0m\u001b[1;33m\u001b[0m\u001b[0m\n\u001b[0;32m     14\u001b[0m         \u001b[0mpos_pos\u001b[0m\u001b[1;33m.\u001b[0m\u001b[0mappend\u001b[0m\u001b[1;33m(\u001b[0m\u001b[0mx\u001b[0m\u001b[1;33m)\u001b[0m\u001b[1;33m\u001b[0m\u001b[1;33m\u001b[0m\u001b[0m\n\u001b[1;32m---> 15\u001b[1;33m         \u001b[0mpos_pos\u001b[0m\u001b[1;33m[\u001b[0m\u001b[0mx\u001b[0m\u001b[1;33m,\u001b[0m\u001b[0my\u001b[0m\u001b[1;33m]\u001b[0m \u001b[1;33m+=\u001b[0m \u001b[1;36m1\u001b[0m\u001b[1;33m\u001b[0m\u001b[1;33m\u001b[0m\u001b[0m\n\u001b[0m\u001b[0;32m     16\u001b[0m     \u001b[1;32melif\u001b[0m \u001b[0mx\u001b[0m \u001b[1;33m>\u001b[0m \u001b[1;36m0\u001b[0m \u001b[1;32mand\u001b[0m \u001b[0my\u001b[0m \u001b[1;33m<\u001b[0m \u001b[1;36m0\u001b[0m\u001b[1;33m:\u001b[0m\u001b[1;33m\u001b[0m\u001b[1;33m\u001b[0m\u001b[0m\n\u001b[0;32m     17\u001b[0m         \u001b[0mpos_neg\u001b[0m\u001b[1;33m.\u001b[0m\u001b[0mappend\u001b[0m\u001b[1;33m(\u001b[0m\u001b[0mx\u001b[0m\u001b[1;33m)\u001b[0m\u001b[1;33m\u001b[0m\u001b[1;33m\u001b[0m\u001b[0m\n",
      "\u001b[1;31mTypeError\u001b[0m: list indices must be integers or slices, not tuple"
     ]
    }
   ],
   "source": [
    "\"\"\"\n",
    "2. Calculate how many arrows have fallen in each quadrant.\n",
    "Note: the arrows that fall in the axis (x=0 or y=0) don't belong to \n",
    "any quadrant.\n",
    "\"\"\"\n",
    "pos_pos = [0,0]\n",
    "pos_neg = [0,0]\n",
    "neg_pos = [0,0]\n",
    "neg_neg = [0,0]\n",
    "\n",
    "\n",
    "for x,y in points:\n",
    "    if x > 0 and y > 0:\n",
    "        pos_pos.append(x)\n",
    "        pos_pos[x,y] += 1\n",
    "    elif x > 0 and y < 0:\n",
    "        pos_neg.append(x)\n",
    "        pos_neg[x,y] += 1\n",
    "    elif x < 0 and y > 0:\n",
    "        neg_pos.append(x)\n",
    "        neg_pos[x,y] += 1\n",
    "    else:\n",
    "        neg_neg.append(x)\n",
    "        neg_neg[x,y] += 1"
   ]
  },
  {
   "cell_type": "code",
   "execution_count": 59,
   "metadata": {},
   "outputs": [
    {
     "data": {
      "text/plain": [
       "[]"
      ]
     },
     "execution_count": 59,
     "metadata": {},
     "output_type": "execute_result"
    }
   ],
   "source": [
    "neg_neg"
   ]
  },
  {
   "cell_type": "code",
   "execution_count": null,
   "metadata": {},
   "outputs": [],
   "source": [
    "\"\"\"\n",
    "3. Find the point closest to the center. Calculate its distance to the \n",
    "center.\n",
    "Take into account that there might be more than one point at the \n",
    "minimum distance to the center.\n",
    "\"\"\"\n",
    "\n"
   ]
  },
  {
   "cell_type": "code",
   "execution_count": null,
   "metadata": {},
   "outputs": [],
   "source": [
    "\"\"\"\n",
    "4. If the archery target has a radius of 9, calculate the number of\n",
    "arrows that won't hit the target.\n",
    "Hint: Use the function created in step 3.\n",
    "\"\"\""
   ]
  },
  {
   "cell_type": "code",
   "execution_count": 63,
   "metadata": {},
   "outputs": [],
   "source": [
    "\"\"\"\n",
    "Temperature Sensor\n",
    "\n",
    "\n",
    "\"\"\"\n",
    "\n",
    "\n",
    "temperatures_C = [33, 66, 65, 0, 59, 60, 62, 64, 70, 76, 80, 81, 80, 83, 90, 79, 61, 53, 50, 49, 53, 48, 45, 39]"
   ]
  },
  {
   "cell_type": "code",
   "execution_count": 64,
   "metadata": {},
   "outputs": [],
   "source": [
    "min_temp = min(temperatures_C)"
   ]
  },
  {
   "cell_type": "code",
   "execution_count": 66,
   "metadata": {},
   "outputs": [],
   "source": [
    "max_temp = max(temperatures_C)"
   ]
  },
  {
   "cell_type": "code",
   "execution_count": null,
   "metadata": {},
   "outputs": [],
   "source": []
  },
  {
   "cell_type": "markdown",
   "metadata": {},
   "source": []
  }
 ],
 "metadata": {
  "kernelspec": {
   "display_name": "Python 3",
   "language": "python",
   "name": "python3"
  },
  "language_info": {
   "codemirror_mode": {
    "name": "ipython",
    "version": 3
   },
   "file_extension": ".py",
   "mimetype": "text/x-python",
   "name": "python",
   "nbconvert_exporter": "python",
   "pygments_lexer": "ipython3",
   "version": "3.7.6"
  }
 },
 "nbformat": 4,
 "nbformat_minor": 4
}
