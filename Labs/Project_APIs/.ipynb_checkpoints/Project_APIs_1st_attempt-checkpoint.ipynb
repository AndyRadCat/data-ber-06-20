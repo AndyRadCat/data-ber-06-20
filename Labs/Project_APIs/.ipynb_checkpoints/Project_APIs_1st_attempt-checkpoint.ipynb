{
 "cells": [
  {
   "cell_type": "code",
   "execution_count": 5,
   "metadata": {},
   "outputs": [],
   "source": [
    "import json\n",
    "import requests\n",
    "import pandas as pd\n",
    "import matplotlib\n",
    "\n",
    "%matplotlib inline"
   ]
  },
  {
   "cell_type": "code",
   "execution_count": 100,
   "metadata": {},
   "outputs": [],
   "source": [
    "from pandas.io.json import json_normalize\n"
   ]
  },
  {
   "cell_type": "markdown",
   "metadata": {},
   "source": [
    "# data = pd.DataFrame(results)\n",
    "data.head()"
   ]
  },
  {
   "cell_type": "code",
   "execution_count": 101,
   "metadata": {},
   "outputs": [],
   "source": [
    "objs = [data, pd.DataFrame(data['connectors'].tolist()).iloc[:, :3]]"
   ]
  },
  {
   "cell_type": "code",
   "execution_count": 102,
   "metadata": {},
   "outputs": [
    {
     "data": {
      "text/plain": [
       "[                                          connectors  utilization    id  \\\n",
       " 0  [{'id': 8757, 'apiIdentifier': '+49*809*010*15...           50  1244   \n",
       " 1  [{'id': 10934, 'apiIdentifier': '+49*809*010*1...            7  1318   \n",
       " 2  [{'id': 10465, 'apiIdentifier': '+49*809*010*1...            3  1325   \n",
       " 3  [{'id': 185134, 'apiIdentifier': '+49*809*010*...           13  1332   \n",
       " 4  [{'id': 10940, 'apiIdentifier': '+49*809*010*1...           15  1333   \n",
       " \n",
       "   provider deletedAt   latitude  longitude  \n",
       " 0       {}      None  51.263405   6.551713  \n",
       " 1       {}      None  50.196799   6.827810  \n",
       " 2       {}      None  51.922328   7.673950  \n",
       " 3       {}      None  51.468056   7.270833  \n",
       " 4       {}      None  51.465856   7.012906  ,\n",
       "                                                    0  \\\n",
       " 0  {'id': 8757, 'apiIdentifier': '+49*809*010*151...   \n",
       " 1  {'id': 10934, 'apiIdentifier': '+49*809*010*15...   \n",
       " 2  {'id': 10465, 'apiIdentifier': '+49*809*010*15...   \n",
       " 3  {'id': 185134, 'apiIdentifier': '+49*809*010*1...   \n",
       " 4  {'id': 10940, 'apiIdentifier': '+49*809*010*15...   \n",
       " \n",
       "                                                    1  \\\n",
       " 0  {'id': 8758, 'apiIdentifier': '+49*809*010*151...   \n",
       " 1  {'id': 10935, 'apiIdentifier': '+49*809*010*15...   \n",
       " 2  {'id': 10466, 'apiIdentifier': '+49*809*010*15...   \n",
       " 3  {'id': 185136, 'apiIdentifier': '+49*809*010*1...   \n",
       " 4  {'id': 10941, 'apiIdentifier': '+49*809*010*15...   \n",
       " \n",
       "                                                    2  \n",
       " 0  {'id': 103914, 'apiIdentifier': '+49*809*010*1...  \n",
       " 1                                               None  \n",
       " 2                                               None  \n",
       " 3                                               None  \n",
       " 4  {'id': 103830, 'apiIdentifier': '+49*809*010*1...  ]"
      ]
     },
     "execution_count": 102,
     "metadata": {},
     "output_type": "execute_result"
    }
   ],
   "source": [
    "objs"
   ]
  },
  {
   "cell_type": "code",
   "execution_count": 161,
   "metadata": {},
   "outputs": [
    {
     "ename": "TypeError",
     "evalue": "'Response' object is not subscriptable",
     "output_type": "error",
     "traceback": [
      "\u001b[1;31m---------------------------------------------------------------------------\u001b[0m",
      "\u001b[1;31mTypeError\u001b[0m                                 Traceback (most recent call last)",
      "\u001b[1;32m<ipython-input-161-c538075fd57d>\u001b[0m in \u001b[0;36m<module>\u001b[1;34m\u001b[0m\n\u001b[1;32m----> 1\u001b[1;33m \u001b[0mtry_out\u001b[0m \u001b[1;33m=\u001b[0m \u001b[0mpd\u001b[0m\u001b[1;33m.\u001b[0m\u001b[0mconcat\u001b[0m\u001b[1;33m(\u001b[0m\u001b[1;33m[\u001b[0m\u001b[0mpd\u001b[0m\u001b[1;33m.\u001b[0m\u001b[0mDataFrame\u001b[0m\u001b[1;33m(\u001b[0m\u001b[0mx\u001b[0m\u001b[1;33m)\u001b[0m \u001b[1;32mfor\u001b[0m \u001b[0mx\u001b[0m \u001b[1;32min\u001b[0m \u001b[0mres\u001b[0m\u001b[1;33m[\u001b[0m\u001b[1;34m'accessmedium'\u001b[0m\u001b[1;33m]\u001b[0m\u001b[1;33m]\u001b[0m\u001b[1;33m,\u001b[0m \u001b[0mkeys\u001b[0m\u001b[1;33m=\u001b[0m\u001b[0mres\u001b[0m\u001b[1;33m[\u001b[0m\u001b[1;33m:\u001b[0m\u001b[1;33m]\u001b[0m\u001b[1;33m)\u001b[0m\u001b[1;33m.\u001b[0m\u001b[0mreset_index\u001b[0m\u001b[1;33m(\u001b[0m\u001b[0mlevel\u001b[0m\u001b[1;33m=\u001b[0m\u001b[1;36m1\u001b[0m\u001b[1;33m,\u001b[0m \u001b[0mdrop\u001b[0m\u001b[1;33m=\u001b[0m\u001b[1;32mTrue\u001b[0m\u001b[1;33m)\u001b[0m\u001b[1;33m.\u001b[0m\u001b[0mreset_index\u001b[0m\u001b[1;33m(\u001b[0m\u001b[1;33m)\u001b[0m\u001b[1;33m\u001b[0m\u001b[1;33m\u001b[0m\u001b[0m\n\u001b[0m",
      "\u001b[1;31mTypeError\u001b[0m: 'Response' object is not subscriptable"
     ]
    }
   ],
   "source": [
    "try_out = pd.concat([pd.DataFrame(x) for x in res['accessmedium']], keys=res[:]).reset_index(level=1, drop=True).reset_index()"
   ]
  },
  {
   "cell_type": "code",
   "execution_count": 104,
   "metadata": {
    "scrolled": true
   },
   "outputs": [
    {
     "data": {
      "text/html": [
       "<div>\n",
       "<style scoped>\n",
       "    .dataframe tbody tr th:only-of-type {\n",
       "        vertical-align: middle;\n",
       "    }\n",
       "\n",
       "    .dataframe tbody tr th {\n",
       "        vertical-align: top;\n",
       "    }\n",
       "\n",
       "    .dataframe thead th {\n",
       "        text-align: right;\n",
       "    }\n",
       "</style>\n",
       "<table border=\"1\" class=\"dataframe\">\n",
       "  <thead>\n",
       "    <tr style=\"text-align: right;\">\n",
       "      <th></th>\n",
       "      <th>index</th>\n",
       "      <th>id</th>\n",
       "      <th>apiIdentifier</th>\n",
       "      <th>speed</th>\n",
       "      <th>powerType</th>\n",
       "    </tr>\n",
       "  </thead>\n",
       "  <tbody>\n",
       "    <tr>\n",
       "      <th>0</th>\n",
       "      <td>connectors</td>\n",
       "      <td>8757</td>\n",
       "      <td>+49*809*010*151178</td>\n",
       "      <td>22.0</td>\n",
       "      <td>AC3</td>\n",
       "    </tr>\n",
       "    <tr>\n",
       "      <th>1</th>\n",
       "      <td>connectors</td>\n",
       "      <td>8758</td>\n",
       "      <td>+49*809*010*151177</td>\n",
       "      <td>22.0</td>\n",
       "      <td>AC3</td>\n",
       "    </tr>\n",
       "    <tr>\n",
       "      <th>2</th>\n",
       "      <td>connectors</td>\n",
       "      <td>103914</td>\n",
       "      <td>+49*809*010*151178</td>\n",
       "      <td>7.4</td>\n",
       "      <td>AC1</td>\n",
       "    </tr>\n",
       "    <tr>\n",
       "      <th>3</th>\n",
       "      <td>utilization</td>\n",
       "      <td>10934</td>\n",
       "      <td>+49*809*010*150759</td>\n",
       "      <td>22.0</td>\n",
       "      <td>AC3</td>\n",
       "    </tr>\n",
       "    <tr>\n",
       "      <th>4</th>\n",
       "      <td>utilization</td>\n",
       "      <td>10935</td>\n",
       "      <td>+49*809*010*150760</td>\n",
       "      <td>22.0</td>\n",
       "      <td>AC3</td>\n",
       "    </tr>\n",
       "    <tr>\n",
       "      <th>5</th>\n",
       "      <td>id</td>\n",
       "      <td>10465</td>\n",
       "      <td>+49*809*010*151307</td>\n",
       "      <td>22.0</td>\n",
       "      <td>AC3</td>\n",
       "    </tr>\n",
       "    <tr>\n",
       "      <th>6</th>\n",
       "      <td>id</td>\n",
       "      <td>10466</td>\n",
       "      <td>+49*809*010*151308</td>\n",
       "      <td>22.0</td>\n",
       "      <td>AC3</td>\n",
       "    </tr>\n",
       "    <tr>\n",
       "      <th>7</th>\n",
       "      <td>provider</td>\n",
       "      <td>185134</td>\n",
       "      <td>+49*809*010*151542</td>\n",
       "      <td>22.0</td>\n",
       "      <td>AC3</td>\n",
       "    </tr>\n",
       "    <tr>\n",
       "      <th>8</th>\n",
       "      <td>provider</td>\n",
       "      <td>185136</td>\n",
       "      <td>+49*809*010*151541</td>\n",
       "      <td>22.0</td>\n",
       "      <td>AC3</td>\n",
       "    </tr>\n",
       "    <tr>\n",
       "      <th>9</th>\n",
       "      <td>deletedAt</td>\n",
       "      <td>10940</td>\n",
       "      <td>+49*809*010*150703</td>\n",
       "      <td>22.0</td>\n",
       "      <td>AC3</td>\n",
       "    </tr>\n",
       "    <tr>\n",
       "      <th>10</th>\n",
       "      <td>deletedAt</td>\n",
       "      <td>10941</td>\n",
       "      <td>+49*809*010*150704</td>\n",
       "      <td>22.0</td>\n",
       "      <td>AC3</td>\n",
       "    </tr>\n",
       "    <tr>\n",
       "      <th>11</th>\n",
       "      <td>deletedAt</td>\n",
       "      <td>103830</td>\n",
       "      <td>+49*809*010*150703</td>\n",
       "      <td>7.4</td>\n",
       "      <td>AC1</td>\n",
       "    </tr>\n",
       "  </tbody>\n",
       "</table>\n",
       "</div>"
      ],
      "text/plain": [
       "          index      id       apiIdentifier  speed powerType\n",
       "0    connectors    8757  +49*809*010*151178   22.0       AC3\n",
       "1    connectors    8758  +49*809*010*151177   22.0       AC3\n",
       "2    connectors  103914  +49*809*010*151178    7.4       AC1\n",
       "3   utilization   10934  +49*809*010*150759   22.0       AC3\n",
       "4   utilization   10935  +49*809*010*150760   22.0       AC3\n",
       "5            id   10465  +49*809*010*151307   22.0       AC3\n",
       "6            id   10466  +49*809*010*151308   22.0       AC3\n",
       "7      provider  185134  +49*809*010*151542   22.0       AC3\n",
       "8      provider  185136  +49*809*010*151541   22.0       AC3\n",
       "9     deletedAt   10940  +49*809*010*150703   22.0       AC3\n",
       "10    deletedAt   10941  +49*809*010*150704   22.0       AC3\n",
       "11    deletedAt  103830  +49*809*010*150703    7.4       AC1"
      ]
     },
     "execution_count": 104,
     "metadata": {},
     "output_type": "execute_result"
    }
   ],
   "source": [
    "try_out"
   ]
  },
  {
   "cell_type": "code",
   "execution_count": 105,
   "metadata": {},
   "outputs": [
    {
     "data": {
      "text/plain": [
       "pandas.core.frame.DataFrame"
      ]
     },
     "execution_count": 105,
     "metadata": {},
     "output_type": "execute_result"
    }
   ],
   "source": [
    "type(try_out)"
   ]
  },
  {
   "cell_type": "code",
   "execution_count": 114,
   "metadata": {},
   "outputs": [
    {
     "ename": "TypeError",
     "evalue": "'module' object is not callable",
     "output_type": "error",
     "traceback": [
      "\u001b[1;31m---------------------------------------------------------------------------\u001b[0m",
      "\u001b[1;31mTypeError\u001b[0m                                 Traceback (most recent call last)",
      "\u001b[1;32m<ipython-input-114-91ca35332780>\u001b[0m in \u001b[0;36m<module>\u001b[1;34m\u001b[0m\n\u001b[0;32m      1\u001b[0m \u001b[0mresults2\u001b[0m \u001b[1;33m=\u001b[0m \u001b[0mresponse\u001b[0m\u001b[1;33m.\u001b[0m\u001b[0mjson\u001b[0m\u001b[1;33m(\u001b[0m\u001b[1;33m)\u001b[0m\u001b[1;33m\u001b[0m\u001b[1;33m\u001b[0m\u001b[0m\n\u001b[1;32m----> 2\u001b[1;33m \u001b[0mflattened_data\u001b[0m \u001b[1;33m=\u001b[0m \u001b[0mjson\u001b[0m\u001b[1;33m(\u001b[0m\u001b[0mresults2\u001b[0m\u001b[1;33m)\u001b[0m\u001b[1;33m\u001b[0m\u001b[1;33m\u001b[0m\u001b[0m\n\u001b[0m\u001b[0;32m      3\u001b[0m \u001b[0mflattened_data\u001b[0m\u001b[1;33m\u001b[0m\u001b[1;33m\u001b[0m\u001b[0m\n",
      "\u001b[1;31mTypeError\u001b[0m: 'module' object is not callable"
     ]
    }
   ],
   "source": [
    "results2 = response.json()\n",
    "flattened_data = json(results2)\n",
    "flattened_data"
   ]
  },
  {
   "cell_type": "code",
   "execution_count": 162,
   "metadata": {},
   "outputs": [
    {
     "data": {
      "text/plain": [
       "b'<!DOCTYPE html>\\n\\n<html class=\"no-js\" lang=\"en\">\\n\\n<head>\\n    <meta name=\"robots\" content=\"noindex\">\\n    <meta charset=\"utf-8\" />\\n    <meta name=\"viewport\" content=\"width=device-width, initial-scale=1.0\" />\\n\\n    \\n    <title>Plugsurfing - Payment for EV Drivers made easy - Error</title>\\n\\n    <link rel=\"shortcut icon\" type=\"image/x-icon\" href=\"/favicon.png?v2.3.0\">\\n\\n    <!-- Facebook Admin -->\\n    <meta property=\"fb:admins\" content=\"100003511249119,1010994893,768558163\" />\\n    <meta property=\"og:title\" content=\"Just Charge - PlugSurfing\" />\\n    <meta property=\"og:site_name\" content=\"PlugSurfing\" />\\n    <meta property=\"og:url\" content=\"https://www.plugsurfing.com/\" />\\n    <meta property=\"og:image\" content=\"/bundles/plugsurfingwebsite/img/ps-logo-main@2x.png?v2.3.0\" />\\n\\n    <meta name=\"description\" content=\"Find charging points and charge your EV at more than 40,000 charging points with our app or Charging Key\" />\\n\\n    \\n            <link href=\\'//fonts.googleapis.com/css?family=Source+Sans+Pro:400,300,600\\' rel=\\'stylesheet\\' type=\\'text/css\\'>\\n\\n                <link rel=\"stylesheet\" href=\"/css/0df59a9.css?v2.3.0\" />\\n        \\n                <link rel=\"stylesheet\" href=\"/css/6a31f82.css?v2.3.0\" />\\n        \\n                    <link rel=\"stylesheet\" href=\"/css/0105502.css?v2.3.0\" />\\n            \\n    \\n                    <script src=\"/js/9a21228.js?v2.3.0\"></script>\\n            \\n            <script>\\n            (function(i,s,o,g,r,a,m){i[\\'GoogleAnalyticsObject\\']=r;i[r]=i[r]||function(){\\n                        (i[r].q=i[r].q||[]).push(arguments)},i[r].l=1*new Date();a=s.createElement(o),\\n                    m=s.getElementsByTagName(o)[0];a.async=1;a.src=g;m.parentNode.insertBefore(a,m)\\n            })(window,document,\\'script\\',\\'//www.google-analytics.com/analytics.js\\',\\'ga\\');\\n\\n            ga(\\'create\\', \\'UA-42357127-3\\', \\'auto\\');\\n            ga(\\'set\\', \\'anonymizeIp\\', true);\\n            ga(\\'send\\', \\'pageview\\');\\n        </script>\\n    </head>\\n\\n<body id=\"my\">\\n            <section class=\"header-wrapper\">\\n            <section class=\"cookies-wrapper\">\\n                <p>In order to optimize our website for you and to improve it continuously, we use cookies (including third-party). By continuing to use the website, you agree to the use of cookies. Further information on cookies can be found in our privacy policy.</p>\\n                <button id=\"closeCookiesBtn\" class=\"close-button\">&times;</button>\\n            </section>\\n\\n            <header class=\"header\">\\n                <nav>\\n                    <ul class=\"main-menu--left\">\\n                        <li class=\"logo\"><a href=\"http://www.plugsurfing.com\" data-analytics-category=\"header\" data-analytics-label=\"logo\"><h1><span>Plugsurfing - Charge your EV and find Charging Points</span></h1></a></li>\\n                    </ul>\\n                                            <ul class=\"main-menu--right\">\\n                                                                                                <li class=\"item\"><a href=\"/en/register/\" data-analytics-category=\"header\" data-analytics-label=\"signup\">Sign Up</a></li>\\n                                    <li class=\"item\"><a href=\"/en/login\" data-analytics-category=\"header\" data-analytics-label=\"login\">Login</a></li>\\n                                                                                    </ul>\\n                                    </nav>\\n            </header>\\n        </section>\\n    \\n        \\n    <div class=\"the-content\">\\n            <section class=\"error-404\">\\n        <div class=\"row\">\\n            <div class=\"large-8 medium-10 columns large-centered medium-centered\">\\n                    <h2>The server returned an error \"404 Not Found\"</h2>\\n    <p>Oops. Looks like the thing you are trying to access is not there anymore, or maybe it didn&#039;t even exist in the first place.</p>\\n            </div>\\n        </div>\\n    </section>\\n\\n    <script>\\n        // GA submit error event\\n        var errorString = \"My: 404 Not Found - URI: /mfund/sessions&amp;limit=100\";\\n        \\n        ga(\\n                \\'send\\',\\n                \\'event\\',\\n                \\'ERROR\\',\\n                \\'view\\',\\n                errorString\\n        );\\n    </script>\\n    </div>\\n\\n        \\n\\n    <footer class=\"footer\">\\n    <div class=\"footer--nav\">\\n        <div class=\"row\">\\n            <div class=\"large-6 columns\">\\n                <ul class=\"footer--nav-menu horizontal\">\\n                    <li><a href=\"https://www.plugsurfing.com/en/legal-notice.html\">Legal Notice</a></li>\\n                    <li><a href=\"https://www.plugsurfing.com/en/terms.html\">Terms of Use</a></li>\\n                    <li><a href=\"https://www.plugsurfing.com/en/privacy.html\">Privacy Policy</a></li>\\n                </ul>\\n            </div>\\n            <div class=\"large-6 columns text-right\">\\n                <span class=\"footer--copyright-notice\">\\n                    Copyright \\xc2\\xa9 2020 Plugsurfing GmbH\\n                </span>\\n            </div>\\n        </div>\\n    </div>\\n</footer>\\n\\n\\n\\n    <div id=\"rw-debug\"></div>\\n\\n    <script src=\"//ajax.googleapis.com/ajax/libs/jquery/2.1.4/jquery.min.js\"></script>\\n\\n        <script src=\"/js/ea81b13.js?v2.3.0\"></script>\\n    \\n        <script src=\"/js/138d6d5.js?v2.3.0\"></script>\\n    \\n    <script src=\"/js/routing?callback=fos.Router.setData\"></script>\\n\\n    <!-- // Groove widget -->\\n</body>\\n</html>\\n'"
      ]
     },
     "execution_count": 162,
     "metadata": {},
     "output_type": "execute_result"
    }
   ],
   "source": [
    "res = requests.get(\"https://api.plugsurfing.com/mfund/sessions&limit=100\")\n",
    "res.content"
   ]
  },
  {
   "cell_type": "code",
   "execution_count": 144,
   "metadata": {},
   "outputs": [
    {
     "data": {
      "text/plain": [
       "requests.models.Response"
      ]
     },
     "execution_count": 144,
     "metadata": {},
     "output_type": "execute_result"
    }
   ],
   "source": [
    "type(res)"
   ]
  },
  {
   "cell_type": "code",
   "execution_count": 159,
   "metadata": {},
   "outputs": [
    {
     "data": {
      "text/html": [
       "<div>\n",
       "<style scoped>\n",
       "    .dataframe tbody tr th:only-of-type {\n",
       "        vertical-align: middle;\n",
       "    }\n",
       "\n",
       "    .dataframe tbody tr th {\n",
       "        vertical-align: top;\n",
       "    }\n",
       "\n",
       "    .dataframe thead th {\n",
       "        text-align: right;\n",
       "    }\n",
       "</style>\n",
       "<table border=\"1\" class=\"dataframe\">\n",
       "  <thead>\n",
       "    <tr style=\"text-align: right;\">\n",
       "      <th></th>\n",
       "      <th>0</th>\n",
       "    </tr>\n",
       "  </thead>\n",
       "  <tbody>\n",
       "    <tr>\n",
       "      <th>0</th>\n",
       "      <td>b'{\"accessMedium\":{\"app\":16.781862499582623,\"c...</td>\n",
       "    </tr>\n",
       "    <tr>\n",
       "      <th>1</th>\n",
       "      <td>b'unknown\",\"percentage\":23.44986477010957},{\"n...</td>\n",
       "    </tr>\n",
       "    <tr>\n",
       "      <th>2</th>\n",
       "      <td>b'ntage\":8.165401384373633},{\"name\":\"Tesla Mod...</td>\n",
       "    </tr>\n",
       "    <tr>\n",
       "      <th>3</th>\n",
       "      <td>b'26761959978424},{\"name\":\"Smart EQ Forfour\",\"...</td>\n",
       "    </tr>\n",
       "    <tr>\n",
       "      <th>4</th>\n",
       "      <td>b'name\":\"Tesla Model 3\",\"percentage\":4.9564779...</td>\n",
       "    </tr>\n",
       "    <tr>\n",
       "      <th>5</th>\n",
       "      <td>b' Fortwo\",\"percentage\":2.2777610827295267},{\"...</td>\n",
       "    </tr>\n",
       "    <tr>\n",
       "      <th>6</th>\n",
       "      <td>b'ge\":0.5831341852577953},{\"name\":\"Citro\\\\u00e...</td>\n",
       "    </tr>\n",
       "    <tr>\n",
       "      <th>7</th>\n",
       "      <td>b'578516811913585},{\"name\":\"Audi e-Tron\",\"perc...</td>\n",
       "    </tr>\n",
       "    <tr>\n",
       "      <th>8</th>\n",
       "      <td>b'me\":\"Mitsubishi Outlander\",\"percentage\":0.94...</td>\n",
       "    </tr>\n",
       "    <tr>\n",
       "      <th>9</th>\n",
       "      <td>b'Nissan e-NV200\",\"percentage\":0.4446447850234...</td>\n",
       "    </tr>\n",
       "    <tr>\n",
       "      <th>10</th>\n",
       "      <td>b'percentage\":0.7022457658538992},{\"name\":\"BMW...</td>\n",
       "    </tr>\n",
       "    <tr>\n",
       "      <th>11</th>\n",
       "      <td>b'\":0.8912373256758707},{\"name\":\"Volvo V60\",\"p...</td>\n",
       "    </tr>\n",
       "    <tr>\n",
       "      <th>12</th>\n",
       "      <td>b'{\"name\":\"BMW 330e\",\"percentage\":0.5370240519...</td>\n",
       "    </tr>\n",
       "    <tr>\n",
       "      <th>13</th>\n",
       "      <td>b'two\",\"percentage\":0.6856099814128459},{\"name...</td>\n",
       "    </tr>\n",
       "    <tr>\n",
       "      <th>14</th>\n",
       "      <td>b'z GLC\",\"percentage\":0.20868810310861796},{\"n...</td>\n",
       "    </tr>\n",
       "    <tr>\n",
       "      <th>15</th>\n",
       "      <td>b'4kWh \\\\/ 30kWh\",\"percentage\":1.4883837877927...</td>\n",
       "    </tr>\n",
       "    <tr>\n",
       "      <th>16</th>\n",
       "      <td>b'\"percentage\":0.011686533774082608},{\"name\":\"...</td>\n",
       "    </tr>\n",
       "    <tr>\n",
       "      <th>17</th>\n",
       "      <td>b'1686199873117633},{\"name\":\"Hyundai IONIQ\",\"p...</td>\n",
       "    </tr>\n",
       "    <tr>\n",
       "      <th>18</th>\n",
       "      <td>b'8755},{\"name\":\"Renault Twizy\",\"percentage\":0...</td>\n",
       "    </tr>\n",
       "    <tr>\n",
       "      <th>19</th>\n",
       "      <td>b'me\":\"Peugeot iOn\",\"percentage\":0.14580342137...</td>\n",
       "    </tr>\n",
       "    <tr>\n",
       "      <th>20</th>\n",
       "      <td>b'ercentage\":0.4874954088617316},{\"name\":\"BMW ...</td>\n",
       "    </tr>\n",
       "    <tr>\n",
       "      <th>21</th>\n",
       "      <td>b'915},{\"name\":\"Opel Corsa\",\"percentage\":0.040...</td>\n",
       "    </tr>\n",
       "    <tr>\n",
       "      <th>22</th>\n",
       "      <td>b':\"Porsche 918\",\"percentage\":0.01780805146526...</td>\n",
       "    </tr>\n",
       "    <tr>\n",
       "      <th>23</th>\n",
       "      <td>b',\"percentage\":1.463042728193484},{\"name\":\"Ki...</td>\n",
       "    </tr>\n",
       "    <tr>\n",
       "      <th>24</th>\n",
       "      <td>b'43407125446592545},{\"name\":\"Kia Optima\",\"per...</td>\n",
       "    </tr>\n",
       "    <tr>\n",
       "      <th>25</th>\n",
       "      <td>b'972},{\"name\":\"Volvo XC40\",\"percentage\":0.076...</td>\n",
       "    </tr>\n",
       "    <tr>\n",
       "      <th>26</th>\n",
       "      <td>b'\":\"Cadillac ELR\",\"percentage\":0.020034057898...</td>\n",
       "    </tr>\n",
       "    <tr>\n",
       "      <th>27</th>\n",
       "      <td>b'0\",\"percentage\":0.27713780092824464},{\"name\"...</td>\n",
       "    </tr>\n",
       "    <tr>\n",
       "      <th>28</th>\n",
       "      <td>b'\"percentage\":0.10350929914187451},{\"name\":\"g...</td>\n",
       "    </tr>\n",
       "    <tr>\n",
       "      <th>29</th>\n",
       "      <td>b':0.2504257237303416},{\"name\":\"Tesla Roadster...</td>\n",
       "    </tr>\n",
       "    <tr>\n",
       "      <th>30</th>\n",
       "      <td>b'857012476766058},{\"name\":\"Tesla Model Y\",\"pe...</td>\n",
       "    </tr>\n",
       "    <tr>\n",
       "      <th>31</th>\n",
       "      <td>b'803},{\"name\":\"BYD e6\",\"percentage\":0.0178080...</td>\n",
       "    </tr>\n",
       "    <tr>\n",
       "      <th>32</th>\n",
       "      <td>b'-Soul\",\"percentage\":0.26411566329426694},{\"n...</td>\n",
       "    </tr>\n",
       "    <tr>\n",
       "      <th>33</th>\n",
       "      <td>b'57462130065555},{\"name\":\"Mercedes-Benz A Cla...</td>\n",
       "    </tr>\n",
       "    <tr>\n",
       "      <th>34</th>\n",
       "      <td>b'6533774082606},{\"name\":\"Land Rover Range Rov...</td>\n",
       "    </tr>\n",
       "    <tr>\n",
       "      <th>35</th>\n",
       "      <td>b'8841554452092367},{\"name\":\"Polestar 2\",\"perc...</td>\n",
       "    </tr>\n",
       "    <tr>\n",
       "      <th>36</th>\n",
       "      <td>b'74606832},{\"name\":\"Peugeot e-2008\",\"percenta...</td>\n",
       "    </tr>\n",
       "    <tr>\n",
       "      <th>37</th>\n",
       "      <td>b'4},{\"name\":\"Opel Grandland X\",\"percentage\":0...</td>\n",
       "    </tr>\n",
       "    <tr>\n",
       "      <th>38</th>\n",
       "      <td>b'},{\"name\":\"Ford C-Max\",\"percentage\":0.011130...</td>\n",
       "    </tr>\n",
       "    <tr>\n",
       "      <th>39</th>\n",
       "      <td>b'W 740e\",\"percentage\":0.015582045032110142},{...</td>\n",
       "    </tr>\n",
       "    <tr>\n",
       "      <th>40</th>\n",
       "      <td>b' SLS\",\"percentage\":0.031720591672509936},{\"n...</td>\n",
       "    </tr>\n",
       "    <tr>\n",
       "      <th>41</th>\n",
       "      <td>b'centage\":0.0033390096497378876},{\"name\":\"Ope...</td>\n",
       "    </tr>\n",
       "    <tr>\n",
       "      <th>42</th>\n",
       "      <td>b'\":0.00047700137853398395},{\"name\":\"Ford Focu...</td>\n",
       "    </tr>\n",
       "    <tr>\n",
       "      <th>43</th>\n",
       "      <td>b':0.00047700137853398395}]}'</td>\n",
       "    </tr>\n",
       "  </tbody>\n",
       "</table>\n",
       "</div>"
      ],
      "text/plain": [
       "                                                    0\n",
       "0   b'{\"accessMedium\":{\"app\":16.781862499582623,\"c...\n",
       "1   b'unknown\",\"percentage\":23.44986477010957},{\"n...\n",
       "2   b'ntage\":8.165401384373633},{\"name\":\"Tesla Mod...\n",
       "3   b'26761959978424},{\"name\":\"Smart EQ Forfour\",\"...\n",
       "4   b'name\":\"Tesla Model 3\",\"percentage\":4.9564779...\n",
       "5   b' Fortwo\",\"percentage\":2.2777610827295267},{\"...\n",
       "6   b'ge\":0.5831341852577953},{\"name\":\"Citro\\\\u00e...\n",
       "7   b'578516811913585},{\"name\":\"Audi e-Tron\",\"perc...\n",
       "8   b'me\":\"Mitsubishi Outlander\",\"percentage\":0.94...\n",
       "9   b'Nissan e-NV200\",\"percentage\":0.4446447850234...\n",
       "10  b'percentage\":0.7022457658538992},{\"name\":\"BMW...\n",
       "11  b'\":0.8912373256758707},{\"name\":\"Volvo V60\",\"p...\n",
       "12  b'{\"name\":\"BMW 330e\",\"percentage\":0.5370240519...\n",
       "13  b'two\",\"percentage\":0.6856099814128459},{\"name...\n",
       "14  b'z GLC\",\"percentage\":0.20868810310861796},{\"n...\n",
       "15  b'4kWh \\\\/ 30kWh\",\"percentage\":1.4883837877927...\n",
       "16  b'\"percentage\":0.011686533774082608},{\"name\":\"...\n",
       "17  b'1686199873117633},{\"name\":\"Hyundai IONIQ\",\"p...\n",
       "18  b'8755},{\"name\":\"Renault Twizy\",\"percentage\":0...\n",
       "19  b'me\":\"Peugeot iOn\",\"percentage\":0.14580342137...\n",
       "20  b'ercentage\":0.4874954088617316},{\"name\":\"BMW ...\n",
       "21  b'915},{\"name\":\"Opel Corsa\",\"percentage\":0.040...\n",
       "22  b':\"Porsche 918\",\"percentage\":0.01780805146526...\n",
       "23  b',\"percentage\":1.463042728193484},{\"name\":\"Ki...\n",
       "24  b'43407125446592545},{\"name\":\"Kia Optima\",\"per...\n",
       "25  b'972},{\"name\":\"Volvo XC40\",\"percentage\":0.076...\n",
       "26  b'\":\"Cadillac ELR\",\"percentage\":0.020034057898...\n",
       "27  b'0\",\"percentage\":0.27713780092824464},{\"name\"...\n",
       "28  b'\"percentage\":0.10350929914187451},{\"name\":\"g...\n",
       "29  b':0.2504257237303416},{\"name\":\"Tesla Roadster...\n",
       "30  b'857012476766058},{\"name\":\"Tesla Model Y\",\"pe...\n",
       "31  b'803},{\"name\":\"BYD e6\",\"percentage\":0.0178080...\n",
       "32  b'-Soul\",\"percentage\":0.26411566329426694},{\"n...\n",
       "33  b'57462130065555},{\"name\":\"Mercedes-Benz A Cla...\n",
       "34  b'6533774082606},{\"name\":\"Land Rover Range Rov...\n",
       "35  b'8841554452092367},{\"name\":\"Polestar 2\",\"perc...\n",
       "36  b'74606832},{\"name\":\"Peugeot e-2008\",\"percenta...\n",
       "37  b'4},{\"name\":\"Opel Grandland X\",\"percentage\":0...\n",
       "38  b'},{\"name\":\"Ford C-Max\",\"percentage\":0.011130...\n",
       "39  b'W 740e\",\"percentage\":0.015582045032110142},{...\n",
       "40  b' SLS\",\"percentage\":0.031720591672509936},{\"n...\n",
       "41  b'centage\":0.0033390096497378876},{\"name\":\"Ope...\n",
       "42  b'\":0.00047700137853398395},{\"name\":\"Ford Focu...\n",
       "43                      b':0.00047700137853398395}]}'"
      ]
     },
     "execution_count": 159,
     "metadata": {},
     "output_type": "execute_result"
    }
   ],
   "source": [
    "pd.DataFrame(res)"
   ]
  },
  {
   "cell_type": "code",
   "execution_count": 126,
   "metadata": {},
   "outputs": [
    {
     "data": {
      "text/plain": [
       "b'[{\"connectors\":[{\"id\":8757,\"apiIdentifier\":\"+49*809*010*151178\",\"speed\":22,\"powerType\":\"AC3\"},{\"id\":8758,\"apiIdentifier\":\"+49*809*010*151177\",\"speed\":22,\"powerType\":\"AC3\"},{\"id\":103914,\"apiIdentifier\":\"+49*809*010*151178\",\"speed\":7.4,\"powerType\":\"AC1\"}],\"utilization\":47,\"id\":1244,\"provider\":{},\"deletedAt\":null,\"latitude\":51.263405,\"longitude\":6.551713},{\"connectors\":[{\"id\":10934,\"apiIdentifier\":\"+49*809*010*150759\",\"speed\":22,\"powerType\":\"AC3\"},{\"id\":10935,\"apiIdentifier\":\"+49*809*010*150760\",\"speed\":22,\"powerType\":\"AC3\"}],\"utilization\":7,\"id\":1318,\"provider\":{},\"deletedAt\":null,\"latitude\":50.196799,\"longitude\":6.82781},{\"connectors\":[{\"id\":10465,\"apiIdentifier\":\"+49*809*010*151307\",\"speed\":22,\"powerType\":\"AC3\"},{\"id\":10466,\"apiIdentifier\":\"+49*809*010*151308\",\"speed\":22,\"powerType\":\"AC3\"}],\"utilization\":3,\"id\":1325,\"provider\":{},\"deletedAt\":null,\"latitude\":51.922328,\"longitude\":7.67395},{\"connectors\":[{\"id\":185134,\"apiIdentifier\":\"+49*809*010*151542\",\"speed\":22,\"powerType\":\"AC3\"},{\"id\":185136,\"apiIdentifier\":\"+49*809*010*151541\",\"speed\":22,\"powerType\":\"AC3\"}],\"utilization\":14,\"id\":1332,\"provider\":{},\"deletedAt\":null,\"latitude\":51.468056,\"longitude\":7.270833},{\"connectors\":[{\"id\":10940,\"apiIdentifier\":\"+49*809*010*150703\",\"speed\":22,\"powerType\":\"AC3\"},{\"id\":10941,\"apiIdentifier\":\"+49*809*010*150704\",\"speed\":22,\"powerType\":\"AC3\"},{\"id\":103830,\"apiIdentifier\":\"+49*809*010*150703\",\"speed\":7.4,\"powerType\":\"AC1\"}],\"utilization\":15,\"id\":1333,\"provider\":{},\"deletedAt\":null,\"latitude\":51.465856,\"longitude\":7.012906}]'"
      ]
     },
     "execution_count": 126,
     "metadata": {},
     "output_type": "execute_result"
    }
   ],
   "source": [
    "res.content"
   ]
  },
  {
   "cell_type": "code",
   "execution_count": 108,
   "metadata": {},
   "outputs": [
    {
     "data": {
      "text/plain": [
       "pandas.core.frame.DataFrame"
      ]
     },
     "execution_count": 108,
     "metadata": {},
     "output_type": "execute_result"
    }
   ],
   "source": [
    "res_df = pd.DataFrame(res)\n",
    "type(res_df)"
   ]
  },
  {
   "cell_type": "code",
   "execution_count": 109,
   "metadata": {},
   "outputs": [
    {
     "data": {
      "text/plain": [
       "{'User-Agent': 'python-requests/2.22.0', 'Accept-Encoding': 'gzip, deflate', 'Accept': '*/*', 'Connection': 'keep-alive'}"
      ]
     },
     "execution_count": 109,
     "metadata": {},
     "output_type": "execute_result"
    }
   ],
   "source": [
    "res.request.headers"
   ]
  },
  {
   "cell_type": "code",
   "execution_count": 134,
   "metadata": {},
   "outputs": [
    {
     "data": {
      "text/plain": [
       "404"
      ]
     },
     "execution_count": 134,
     "metadata": {},
     "output_type": "execute_result"
    }
   ],
   "source": [
    "res.status_code"
   ]
  },
  {
   "cell_type": "code",
   "execution_count": null,
   "metadata": {},
   "outputs": [],
   "source": []
  }
 ],
 "metadata": {
  "kernelspec": {
   "display_name": "Python 3",
   "language": "python",
   "name": "python3"
  },
  "language_info": {
   "codemirror_mode": {
    "name": "ipython",
    "version": 3
   },
   "file_extension": ".py",
   "mimetype": "text/x-python",
   "name": "python",
   "nbconvert_exporter": "python",
   "pygments_lexer": "ipython3",
   "version": "3.7.6"
  }
 },
 "nbformat": 4,
 "nbformat_minor": 4
}
